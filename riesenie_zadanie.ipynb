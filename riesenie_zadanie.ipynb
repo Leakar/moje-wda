{
 "cells": [
  {
   "cell_type": "markdown",
   "metadata": {},
   "source": [
    "### Zadanie\n",
    "\n",
    "1. Načítajte súbor `Accidents.csv`, rozdeľte ho na tri tabuľky podľa hodnôt atribútu `Accident_Severity` (do prvej tabuľky vyberte iba hodnoty 1 - `Fatal`, do druhej 2 - `Serious` a do tretej 3 - `Slight`). (2b)\n",
    "\n"
   ]
  },
  {
   "cell_type": "code",
   "execution_count": 1,
   "metadata": {},
   "outputs": [],
   "source": [
    "# import knižníc a inicializácia knižnice seaborn \n",
    "import seaborn as sns\n",
    "import pandas as pd\n",
    "import numpy as np\n",
    "import matplotlib.pyplot as plt\n",
    "\n",
    "%matplotlib inline\n",
    "sns.set()"
   ]
  },
  {
   "cell_type": "code",
   "execution_count": 2,
   "metadata": {},
   "outputs": [
    {
     "data": {
      "text/html": [
       "<div>\n",
       "<style scoped>\n",
       "    .dataframe tbody tr th:only-of-type {\n",
       "        vertical-align: middle;\n",
       "    }\n",
       "\n",
       "    .dataframe tbody tr th {\n",
       "        vertical-align: top;\n",
       "    }\n",
       "\n",
       "    .dataframe thead th {\n",
       "        text-align: right;\n",
       "    }\n",
       "</style>\n",
       "<table border=\"1\" class=\"dataframe\">\n",
       "  <thead>\n",
       "    <tr style=\"text-align: right;\">\n",
       "      <th></th>\n",
       "      <th>Accident_Index</th>\n",
       "      <th>Location_Easting_OSGR</th>\n",
       "      <th>Location_Northing_OSGR</th>\n",
       "      <th>Longitude</th>\n",
       "      <th>Latitude</th>\n",
       "      <th>Police_Force</th>\n",
       "      <th>Accident_Severity</th>\n",
       "      <th>Number_of_Vehicles</th>\n",
       "      <th>Number_of_Casualties</th>\n",
       "      <th>Date</th>\n",
       "      <th>...</th>\n",
       "      <th>Pedestrian_Crossing-Human_Control</th>\n",
       "      <th>Pedestrian_Crossing-Physical_Facilities</th>\n",
       "      <th>Light_Conditions</th>\n",
       "      <th>Weather_Conditions</th>\n",
       "      <th>Road_Surface_Conditions</th>\n",
       "      <th>Special_Conditions_at_Site</th>\n",
       "      <th>Carriageway_Hazards</th>\n",
       "      <th>Urban_or_Rural_Area</th>\n",
       "      <th>Did_Police_Officer_Attend_Scene_of_Accident</th>\n",
       "      <th>LSOA_of_Accident_Location</th>\n",
       "    </tr>\n",
       "  </thead>\n",
       "  <tbody>\n",
       "    <tr>\n",
       "      <td>0</td>\n",
       "      <td>200501BS00001</td>\n",
       "      <td>525680.0</td>\n",
       "      <td>178240.0</td>\n",
       "      <td>-0.191170</td>\n",
       "      <td>51.489096</td>\n",
       "      <td>1</td>\n",
       "      <td>2</td>\n",
       "      <td>1</td>\n",
       "      <td>1</td>\n",
       "      <td>04/01/2005</td>\n",
       "      <td>...</td>\n",
       "      <td>0</td>\n",
       "      <td>1</td>\n",
       "      <td>1</td>\n",
       "      <td>2</td>\n",
       "      <td>2</td>\n",
       "      <td>0</td>\n",
       "      <td>0</td>\n",
       "      <td>1</td>\n",
       "      <td>1</td>\n",
       "      <td>E01002849</td>\n",
       "    </tr>\n",
       "    <tr>\n",
       "      <td>1</td>\n",
       "      <td>200501BS00002</td>\n",
       "      <td>524170.0</td>\n",
       "      <td>181650.0</td>\n",
       "      <td>-0.211708</td>\n",
       "      <td>51.520075</td>\n",
       "      <td>1</td>\n",
       "      <td>3</td>\n",
       "      <td>1</td>\n",
       "      <td>1</td>\n",
       "      <td>05/01/2005</td>\n",
       "      <td>...</td>\n",
       "      <td>0</td>\n",
       "      <td>5</td>\n",
       "      <td>4</td>\n",
       "      <td>1</td>\n",
       "      <td>1</td>\n",
       "      <td>0</td>\n",
       "      <td>0</td>\n",
       "      <td>1</td>\n",
       "      <td>1</td>\n",
       "      <td>E01002909</td>\n",
       "    </tr>\n",
       "    <tr>\n",
       "      <td>2</td>\n",
       "      <td>200501BS00003</td>\n",
       "      <td>524520.0</td>\n",
       "      <td>182240.0</td>\n",
       "      <td>-0.206458</td>\n",
       "      <td>51.525301</td>\n",
       "      <td>1</td>\n",
       "      <td>3</td>\n",
       "      <td>2</td>\n",
       "      <td>1</td>\n",
       "      <td>06/01/2005</td>\n",
       "      <td>...</td>\n",
       "      <td>0</td>\n",
       "      <td>0</td>\n",
       "      <td>4</td>\n",
       "      <td>1</td>\n",
       "      <td>1</td>\n",
       "      <td>0</td>\n",
       "      <td>0</td>\n",
       "      <td>1</td>\n",
       "      <td>1</td>\n",
       "      <td>E01002857</td>\n",
       "    </tr>\n",
       "    <tr>\n",
       "      <td>3</td>\n",
       "      <td>200501BS00004</td>\n",
       "      <td>526900.0</td>\n",
       "      <td>177530.0</td>\n",
       "      <td>-0.173862</td>\n",
       "      <td>51.482442</td>\n",
       "      <td>1</td>\n",
       "      <td>3</td>\n",
       "      <td>1</td>\n",
       "      <td>1</td>\n",
       "      <td>07/01/2005</td>\n",
       "      <td>...</td>\n",
       "      <td>0</td>\n",
       "      <td>0</td>\n",
       "      <td>1</td>\n",
       "      <td>1</td>\n",
       "      <td>1</td>\n",
       "      <td>0</td>\n",
       "      <td>0</td>\n",
       "      <td>1</td>\n",
       "      <td>1</td>\n",
       "      <td>E01002840</td>\n",
       "    </tr>\n",
       "    <tr>\n",
       "      <td>4</td>\n",
       "      <td>200501BS00005</td>\n",
       "      <td>528060.0</td>\n",
       "      <td>179040.0</td>\n",
       "      <td>-0.156618</td>\n",
       "      <td>51.495752</td>\n",
       "      <td>1</td>\n",
       "      <td>3</td>\n",
       "      <td>1</td>\n",
       "      <td>1</td>\n",
       "      <td>10/01/2005</td>\n",
       "      <td>...</td>\n",
       "      <td>0</td>\n",
       "      <td>0</td>\n",
       "      <td>7</td>\n",
       "      <td>1</td>\n",
       "      <td>2</td>\n",
       "      <td>0</td>\n",
       "      <td>0</td>\n",
       "      <td>1</td>\n",
       "      <td>1</td>\n",
       "      <td>E01002863</td>\n",
       "    </tr>\n",
       "  </tbody>\n",
       "</table>\n",
       "<p>5 rows × 32 columns</p>\n",
       "</div>"
      ],
      "text/plain": [
       "  Accident_Index  Location_Easting_OSGR  Location_Northing_OSGR  Longitude  \\\n",
       "0  200501BS00001               525680.0                178240.0  -0.191170   \n",
       "1  200501BS00002               524170.0                181650.0  -0.211708   \n",
       "2  200501BS00003               524520.0                182240.0  -0.206458   \n",
       "3  200501BS00004               526900.0                177530.0  -0.173862   \n",
       "4  200501BS00005               528060.0                179040.0  -0.156618   \n",
       "\n",
       "    Latitude  Police_Force  Accident_Severity  Number_of_Vehicles  \\\n",
       "0  51.489096             1                  2                   1   \n",
       "1  51.520075             1                  3                   1   \n",
       "2  51.525301             1                  3                   2   \n",
       "3  51.482442             1                  3                   1   \n",
       "4  51.495752             1                  3                   1   \n",
       "\n",
       "   Number_of_Casualties        Date  ...  Pedestrian_Crossing-Human_Control  \\\n",
       "0                     1  04/01/2005  ...                                  0   \n",
       "1                     1  05/01/2005  ...                                  0   \n",
       "2                     1  06/01/2005  ...                                  0   \n",
       "3                     1  07/01/2005  ...                                  0   \n",
       "4                     1  10/01/2005  ...                                  0   \n",
       "\n",
       "  Pedestrian_Crossing-Physical_Facilities  Light_Conditions  \\\n",
       "0                                       1                 1   \n",
       "1                                       5                 4   \n",
       "2                                       0                 4   \n",
       "3                                       0                 1   \n",
       "4                                       0                 7   \n",
       "\n",
       "  Weather_Conditions  Road_Surface_Conditions  Special_Conditions_at_Site  \\\n",
       "0                  2                        2                           0   \n",
       "1                  1                        1                           0   \n",
       "2                  1                        1                           0   \n",
       "3                  1                        1                           0   \n",
       "4                  1                        2                           0   \n",
       "\n",
       "   Carriageway_Hazards  Urban_or_Rural_Area  \\\n",
       "0                    0                    1   \n",
       "1                    0                    1   \n",
       "2                    0                    1   \n",
       "3                    0                    1   \n",
       "4                    0                    1   \n",
       "\n",
       "   Did_Police_Officer_Attend_Scene_of_Accident  LSOA_of_Accident_Location  \n",
       "0                                            1                  E01002849  \n",
       "1                                            1                  E01002909  \n",
       "2                                            1                  E01002857  \n",
       "3                                            1                  E01002840  \n",
       "4                                            1                  E01002863  \n",
       "\n",
       "[5 rows x 32 columns]"
      ]
     },
     "execution_count": 2,
     "metadata": {},
     "output_type": "execute_result"
    }
   ],
   "source": [
    "# načítanie dát\n",
    "data = pd.read_csv(\"./data/Accidents.csv\")\n",
    "data.head()"
   ]
  },
  {
   "cell_type": "code",
   "execution_count": 3,
   "metadata": {},
   "outputs": [
    {
     "name": "stdout",
     "output_type": "stream",
     "text": [
      "(198735, 32)\n"
     ]
    }
   ],
   "source": [
    "# vypísanie počtu hodnôt dátového setu\n",
    "print(data.shape)"
   ]
  },
  {
   "cell_type": "code",
   "execution_count": 4,
   "metadata": {},
   "outputs": [
    {
     "name": "stdout",
     "output_type": "stream",
     "text": [
      "(2913, 32)\n",
      "(25029, 32)\n",
      "(170793, 32)\n"
     ]
    }
   ],
   "source": [
    "# rozdelenie na 3 tabuľky podľa hodnôt atribútu Accident_Severity\n",
    "Fatal_Accidents = data[data[\"Accident_Severity\"] == 1]\n",
    "Serious_Accidents = data[data[\"Accident_Severity\"] == 2]\n",
    "Slight_Accidents = data[data[\"Accident_Severity\"] == 3]\n",
    "\n",
    "# vypísanie počtu hodnôt\n",
    "print(Fatal_Accidents.shape)\n",
    "print(Serious_Accidents.shape)\n",
    "print(Slight_Accidents.shape)"
   ]
  },
  {
   "cell_type": "markdown",
   "metadata": {},
   "source": [
    "2. Z tabuľky pre hodnoty `Slight` náhodne vyberte 10% príkladov pomocou metódy `sample`. Nasledujúci príklad kódu zobrazuje použitie tejto metódy. (2b)"
   ]
  },
  {
   "cell_type": "code",
   "execution_count": null,
   "metadata": {},
   "outputs": [],
   "source": [
    "# `frac` udáva koľko príkladov sa má náhodne vybrať (0.1 = 10%), `random_state` inicializuje generátor\n",
    "# náhodných čísel, aby sme vždy dostali rovnaký výber\n",
    "# sample_data = accidents_slight.sample(frac=0.1, random_state=1234)"
   ]
  },
  {
   "cell_type": "code",
   "execution_count": 5,
   "metadata": {},
   "outputs": [],
   "source": [
    "# náhodný výber 10% príkladov hodnoty Slight pomocou metódy sample\n",
    "sample_Slight_Accidents = Slight_Accidents.sample(frac=0.1, random_state=1234)"
   ]
  },
  {
   "cell_type": "code",
   "execution_count": 6,
   "metadata": {},
   "outputs": [
    {
     "name": "stdout",
     "output_type": "stream",
     "text": [
      "(17079, 32)\n"
     ]
    }
   ],
   "source": [
    "# vypísanie počtu hodnôt náhodného výberu\n",
    "print(sample_Slight_Accidents.shape)"
   ]
  },
  {
   "cell_type": "markdown",
   "metadata": {},
   "source": [
    "3. Spojte všetky tri tabuľky do upravenej tabuľky `Accidents`, ktorá bude obsahovať 10% príkladov `Slight` a všetky príklady závažnosti `Fatal` a `Serious`. Po spojení by ste mali mať 45 021 príkladov. (2b)"
   ]
  },
  {
   "cell_type": "code",
   "execution_count": 7,
   "metadata": {},
   "outputs": [
    {
     "name": "stdout",
     "output_type": "stream",
     "text": [
      "(45021, 32)\n"
     ]
    }
   ],
   "source": [
    "# spojenie do tabuľky Accidets a vypísanie počtu hodnôt\n",
    "Accidents = pd.concat([sample_Slight_Accidents, Fatal_Accidents, Serious_Accidents], ignore_index=True, sort=False)\n",
    "\n",
    "print(Accidents.shape)"
   ]
  },
  {
   "cell_type": "markdown",
   "metadata": {},
   "source": [
    "4. Spojte upravenú tabuľku `Accidents` s tabuľkou `Vehicles` podľa kľúča `Accident_Index` tak, aby vo výslednej tabuľke boli iba vozidla nehôd z upravenej tabuľky `Accidents`. Po spojení by ste mali dostať redukovanú trénovaciu množinu s menším počtom príkladov, ktorú budete ďalej používať pre analýzu dát. Keďže sme zmenšili počet menej závažných príkladov, zvýšili sme tým váhu príkladov s väčšou závažnosťou. (2b)\n"
   ]
  },
  {
   "cell_type": "code",
   "execution_count": 8,
   "metadata": {},
   "outputs": [
    {
     "data": {
      "text/html": [
       "<div>\n",
       "<style scoped>\n",
       "    .dataframe tbody tr th:only-of-type {\n",
       "        vertical-align: middle;\n",
       "    }\n",
       "\n",
       "    .dataframe tbody tr th {\n",
       "        vertical-align: top;\n",
       "    }\n",
       "\n",
       "    .dataframe thead th {\n",
       "        text-align: right;\n",
       "    }\n",
       "</style>\n",
       "<table border=\"1\" class=\"dataframe\">\n",
       "  <thead>\n",
       "    <tr style=\"text-align: right;\">\n",
       "      <th></th>\n",
       "      <th>Accident_Index</th>\n",
       "      <th>Vehicle_Reference</th>\n",
       "      <th>Vehicle_Type</th>\n",
       "      <th>Towing_and_Articulation</th>\n",
       "      <th>Vehicle_Manoeuvre</th>\n",
       "      <th>Vehicle_Location-Restricted_Lane</th>\n",
       "      <th>Junction_Location</th>\n",
       "      <th>Skidding_and_Overturning</th>\n",
       "      <th>Hit_Object_in_Carriageway</th>\n",
       "      <th>Vehicle_Leaving_Carriageway</th>\n",
       "      <th>...</th>\n",
       "      <th>Was_Vehicle_Left_Hand_Drive?</th>\n",
       "      <th>Journey_Purpose_of_Driver</th>\n",
       "      <th>Sex_of_Driver</th>\n",
       "      <th>Age_of_Driver</th>\n",
       "      <th>Age_Band_of_Driver</th>\n",
       "      <th>Engine_Capacity_(CC)</th>\n",
       "      <th>Propulsion_Code</th>\n",
       "      <th>Age_of_Vehicle</th>\n",
       "      <th>Driver_IMD_Decile</th>\n",
       "      <th>Driver_Home_Area_Type</th>\n",
       "    </tr>\n",
       "  </thead>\n",
       "  <tbody>\n",
       "    <tr>\n",
       "      <td>0</td>\n",
       "      <td>200501BS00001</td>\n",
       "      <td>1</td>\n",
       "      <td>9</td>\n",
       "      <td>0</td>\n",
       "      <td>18</td>\n",
       "      <td>0</td>\n",
       "      <td>0</td>\n",
       "      <td>0</td>\n",
       "      <td>0</td>\n",
       "      <td>0</td>\n",
       "      <td>...</td>\n",
       "      <td>1</td>\n",
       "      <td>15</td>\n",
       "      <td>2</td>\n",
       "      <td>74</td>\n",
       "      <td>10</td>\n",
       "      <td>-1</td>\n",
       "      <td>-1</td>\n",
       "      <td>-1</td>\n",
       "      <td>7</td>\n",
       "      <td>1</td>\n",
       "    </tr>\n",
       "    <tr>\n",
       "      <td>1</td>\n",
       "      <td>200501BS00002</td>\n",
       "      <td>1</td>\n",
       "      <td>11</td>\n",
       "      <td>0</td>\n",
       "      <td>4</td>\n",
       "      <td>0</td>\n",
       "      <td>3</td>\n",
       "      <td>0</td>\n",
       "      <td>0</td>\n",
       "      <td>0</td>\n",
       "      <td>...</td>\n",
       "      <td>1</td>\n",
       "      <td>1</td>\n",
       "      <td>1</td>\n",
       "      <td>42</td>\n",
       "      <td>7</td>\n",
       "      <td>8268</td>\n",
       "      <td>2</td>\n",
       "      <td>3</td>\n",
       "      <td>-1</td>\n",
       "      <td>-1</td>\n",
       "    </tr>\n",
       "    <tr>\n",
       "      <td>2</td>\n",
       "      <td>200501BS00003</td>\n",
       "      <td>1</td>\n",
       "      <td>11</td>\n",
       "      <td>0</td>\n",
       "      <td>17</td>\n",
       "      <td>0</td>\n",
       "      <td>0</td>\n",
       "      <td>0</td>\n",
       "      <td>4</td>\n",
       "      <td>0</td>\n",
       "      <td>...</td>\n",
       "      <td>1</td>\n",
       "      <td>1</td>\n",
       "      <td>1</td>\n",
       "      <td>35</td>\n",
       "      <td>6</td>\n",
       "      <td>8300</td>\n",
       "      <td>2</td>\n",
       "      <td>5</td>\n",
       "      <td>2</td>\n",
       "      <td>1</td>\n",
       "    </tr>\n",
       "    <tr>\n",
       "      <td>3</td>\n",
       "      <td>200501BS00003</td>\n",
       "      <td>2</td>\n",
       "      <td>9</td>\n",
       "      <td>0</td>\n",
       "      <td>2</td>\n",
       "      <td>0</td>\n",
       "      <td>0</td>\n",
       "      <td>0</td>\n",
       "      <td>0</td>\n",
       "      <td>0</td>\n",
       "      <td>...</td>\n",
       "      <td>1</td>\n",
       "      <td>15</td>\n",
       "      <td>1</td>\n",
       "      <td>62</td>\n",
       "      <td>9</td>\n",
       "      <td>1762</td>\n",
       "      <td>1</td>\n",
       "      <td>6</td>\n",
       "      <td>1</td>\n",
       "      <td>1</td>\n",
       "    </tr>\n",
       "    <tr>\n",
       "      <td>4</td>\n",
       "      <td>200501BS00004</td>\n",
       "      <td>1</td>\n",
       "      <td>9</td>\n",
       "      <td>0</td>\n",
       "      <td>18</td>\n",
       "      <td>0</td>\n",
       "      <td>0</td>\n",
       "      <td>0</td>\n",
       "      <td>0</td>\n",
       "      <td>0</td>\n",
       "      <td>...</td>\n",
       "      <td>1</td>\n",
       "      <td>15</td>\n",
       "      <td>2</td>\n",
       "      <td>49</td>\n",
       "      <td>8</td>\n",
       "      <td>1769</td>\n",
       "      <td>1</td>\n",
       "      <td>4</td>\n",
       "      <td>2</td>\n",
       "      <td>1</td>\n",
       "    </tr>\n",
       "  </tbody>\n",
       "</table>\n",
       "<p>5 rows × 22 columns</p>\n",
       "</div>"
      ],
      "text/plain": [
       "  Accident_Index  Vehicle_Reference  Vehicle_Type  Towing_and_Articulation  \\\n",
       "0  200501BS00001                  1             9                        0   \n",
       "1  200501BS00002                  1            11                        0   \n",
       "2  200501BS00003                  1            11                        0   \n",
       "3  200501BS00003                  2             9                        0   \n",
       "4  200501BS00004                  1             9                        0   \n",
       "\n",
       "   Vehicle_Manoeuvre  Vehicle_Location-Restricted_Lane  Junction_Location  \\\n",
       "0                 18                                 0                  0   \n",
       "1                  4                                 0                  3   \n",
       "2                 17                                 0                  0   \n",
       "3                  2                                 0                  0   \n",
       "4                 18                                 0                  0   \n",
       "\n",
       "   Skidding_and_Overturning  Hit_Object_in_Carriageway  \\\n",
       "0                         0                          0   \n",
       "1                         0                          0   \n",
       "2                         0                          4   \n",
       "3                         0                          0   \n",
       "4                         0                          0   \n",
       "\n",
       "   Vehicle_Leaving_Carriageway  ...  Was_Vehicle_Left_Hand_Drive?  \\\n",
       "0                            0  ...                             1   \n",
       "1                            0  ...                             1   \n",
       "2                            0  ...                             1   \n",
       "3                            0  ...                             1   \n",
       "4                            0  ...                             1   \n",
       "\n",
       "   Journey_Purpose_of_Driver  Sex_of_Driver  Age_of_Driver  \\\n",
       "0                         15              2             74   \n",
       "1                          1              1             42   \n",
       "2                          1              1             35   \n",
       "3                         15              1             62   \n",
       "4                         15              2             49   \n",
       "\n",
       "   Age_Band_of_Driver  Engine_Capacity_(CC)  Propulsion_Code  Age_of_Vehicle  \\\n",
       "0                  10                    -1               -1              -1   \n",
       "1                   7                  8268                2               3   \n",
       "2                   6                  8300                2               5   \n",
       "3                   9                  1762                1               6   \n",
       "4                   8                  1769                1               4   \n",
       "\n",
       "   Driver_IMD_Decile  Driver_Home_Area_Type  \n",
       "0                  7                      1  \n",
       "1                 -1                     -1  \n",
       "2                  2                      1  \n",
       "3                  1                      1  \n",
       "4                  2                      1  \n",
       "\n",
       "[5 rows x 22 columns]"
      ]
     },
     "execution_count": 8,
     "metadata": {},
     "output_type": "execute_result"
    }
   ],
   "source": [
    "# načítanie dát - tabuľky Vehicles\n",
    "Vehicles = pd.read_csv(\"./data/Vehicles.csv\")\n",
    "Vehicles.head()"
   ]
  },
  {
   "cell_type": "code",
   "execution_count": 9,
   "metadata": {},
   "outputs": [
    {
     "name": "stdout",
     "output_type": "stream",
     "text": [
      "(366236, 22)\n"
     ]
    }
   ],
   "source": [
    "# vypísanie počtu hodnôt dátového setu - tabuľky Vehicles\n",
    "print(Vehicles.shape)"
   ]
  },
  {
   "cell_type": "code",
   "execution_count": 10,
   "metadata": {},
   "outputs": [],
   "source": [
    "# spojenie tabuliek podľa kľúča Accident_Index \n",
    "Accidents_together = pd.merge(left=Accidents, right=Vehicles, left_on=\"Accident_Index\", right_on=\"Accident_Index\", how=\"inner\")"
   ]
  },
  {
   "cell_type": "code",
   "execution_count": 11,
   "metadata": {},
   "outputs": [
    {
     "name": "stdout",
     "output_type": "stream",
     "text": [
      "(79382, 53)\n"
     ]
    }
   ],
   "source": [
    "# vypísanie počtu hodnôt\n",
    "print(Accidents_together.shape)"
   ]
  },
  {
   "cell_type": "markdown",
   "metadata": {},
   "source": [
    "5. Pre ďalšiu analýzu vyberte iba nasledujúce atribúty:\n",
    "    * `Day_of_Week`\n",
    "    * `1st_Road_Class`\n",
    "    * `Road_Type`\n",
    "    * `Light_Conditions`\n",
    "    * `Weather_Conditions`     \n",
    "    * `Road_Surface_Conditions`\n",
    "    * `Urban_or_Rural_Area`\n",
    "    * `Vehicle_Type`\n",
    "    * `Sex_of_Driver`\n",
    "    * `Age_of_Driver`\n",
    "    * `Engine_Capacity_(CC)`\n",
    "    * `Age_of_Vehicle`\n",
    "    * `Accident_Severity` \n",
    "    \n",
    "Takúto selekciu atribútov urobíme kvôli odstráneniu redundantných atribútov v datasete. Nepoužijeme redundantné atribúty popisujúce napr. geolokalitu, atď., prípadne odstránime atribúty, ktoré pre predikciu nemôžu byť použité (nie sú známe pred výskytom samotnej nehody). (2b)\n"
   ]
  },
  {
   "cell_type": "code",
   "execution_count": 12,
   "metadata": {},
   "outputs": [],
   "source": [
    "# selekcia atribútov\n",
    "Selected_Accidents = Accidents_together[[\"Day_of_Week\", \"1st_Road_Class\", \"Road_Type\", \"Light_Conditions\", \"Weather_Conditions\", \"Road_Surface_Conditions\", \"Urban_or_Rural_Area\", \"Vehicle_Type\", \"Sex_of_Driver\", \"Age_of_Driver\", \"Engine_Capacity_(CC)\", \"Age_of_Vehicle\", \"Accident_Severity\"]]"
   ]
  },
  {
   "cell_type": "code",
   "execution_count": 13,
   "metadata": {},
   "outputs": [
    {
     "name": "stdout",
     "output_type": "stream",
     "text": [
      "(79382, 13)\n"
     ]
    }
   ],
   "source": [
    "# vypísanie počtu hodnôt\n",
    "print(Selected_Accidents.shape)"
   ]
  },
  {
   "cell_type": "code",
   "execution_count": 14,
   "metadata": {},
   "outputs": [
    {
     "data": {
      "text/html": [
       "<div>\n",
       "<style scoped>\n",
       "    .dataframe tbody tr th:only-of-type {\n",
       "        vertical-align: middle;\n",
       "    }\n",
       "\n",
       "    .dataframe tbody tr th {\n",
       "        vertical-align: top;\n",
       "    }\n",
       "\n",
       "    .dataframe thead th {\n",
       "        text-align: right;\n",
       "    }\n",
       "</style>\n",
       "<table border=\"1\" class=\"dataframe\">\n",
       "  <thead>\n",
       "    <tr style=\"text-align: right;\">\n",
       "      <th></th>\n",
       "      <th>Day_of_Week</th>\n",
       "      <th>1st_Road_Class</th>\n",
       "      <th>Road_Type</th>\n",
       "      <th>Light_Conditions</th>\n",
       "      <th>Weather_Conditions</th>\n",
       "      <th>Road_Surface_Conditions</th>\n",
       "      <th>Urban_or_Rural_Area</th>\n",
       "      <th>Vehicle_Type</th>\n",
       "      <th>Sex_of_Driver</th>\n",
       "      <th>Age_of_Driver</th>\n",
       "      <th>Engine_Capacity_(CC)</th>\n",
       "      <th>Age_of_Vehicle</th>\n",
       "      <th>Accident_Severity</th>\n",
       "    </tr>\n",
       "  </thead>\n",
       "  <tbody>\n",
       "    <tr>\n",
       "      <td>0</td>\n",
       "      <td>2</td>\n",
       "      <td>4</td>\n",
       "      <td>6</td>\n",
       "      <td>1</td>\n",
       "      <td>8</td>\n",
       "      <td>1</td>\n",
       "      <td>1</td>\n",
       "      <td>9</td>\n",
       "      <td>1</td>\n",
       "      <td>-1</td>\n",
       "      <td>-1</td>\n",
       "      <td>-1</td>\n",
       "      <td>3</td>\n",
       "    </tr>\n",
       "    <tr>\n",
       "      <td>1</td>\n",
       "      <td>2</td>\n",
       "      <td>4</td>\n",
       "      <td>6</td>\n",
       "      <td>1</td>\n",
       "      <td>8</td>\n",
       "      <td>1</td>\n",
       "      <td>1</td>\n",
       "      <td>1</td>\n",
       "      <td>1</td>\n",
       "      <td>26</td>\n",
       "      <td>-1</td>\n",
       "      <td>-1</td>\n",
       "      <td>3</td>\n",
       "    </tr>\n",
       "    <tr>\n",
       "      <td>2</td>\n",
       "      <td>5</td>\n",
       "      <td>1</td>\n",
       "      <td>3</td>\n",
       "      <td>1</td>\n",
       "      <td>1</td>\n",
       "      <td>2</td>\n",
       "      <td>2</td>\n",
       "      <td>9</td>\n",
       "      <td>2</td>\n",
       "      <td>72</td>\n",
       "      <td>998</td>\n",
       "      <td>5</td>\n",
       "      <td>3</td>\n",
       "    </tr>\n",
       "    <tr>\n",
       "      <td>3</td>\n",
       "      <td>5</td>\n",
       "      <td>1</td>\n",
       "      <td>3</td>\n",
       "      <td>1</td>\n",
       "      <td>1</td>\n",
       "      <td>2</td>\n",
       "      <td>2</td>\n",
       "      <td>9</td>\n",
       "      <td>2</td>\n",
       "      <td>44</td>\n",
       "      <td>1461</td>\n",
       "      <td>1</td>\n",
       "      <td>3</td>\n",
       "    </tr>\n",
       "    <tr>\n",
       "      <td>4</td>\n",
       "      <td>5</td>\n",
       "      <td>1</td>\n",
       "      <td>3</td>\n",
       "      <td>1</td>\n",
       "      <td>1</td>\n",
       "      <td>2</td>\n",
       "      <td>2</td>\n",
       "      <td>19</td>\n",
       "      <td>1</td>\n",
       "      <td>40</td>\n",
       "      <td>2461</td>\n",
       "      <td>1</td>\n",
       "      <td>3</td>\n",
       "    </tr>\n",
       "  </tbody>\n",
       "</table>\n",
       "</div>"
      ],
      "text/plain": [
       "   Day_of_Week  1st_Road_Class  Road_Type  Light_Conditions  \\\n",
       "0            2               4          6                 1   \n",
       "1            2               4          6                 1   \n",
       "2            5               1          3                 1   \n",
       "3            5               1          3                 1   \n",
       "4            5               1          3                 1   \n",
       "\n",
       "   Weather_Conditions  Road_Surface_Conditions  Urban_or_Rural_Area  \\\n",
       "0                   8                        1                    1   \n",
       "1                   8                        1                    1   \n",
       "2                   1                        2                    2   \n",
       "3                   1                        2                    2   \n",
       "4                   1                        2                    2   \n",
       "\n",
       "   Vehicle_Type  Sex_of_Driver  Age_of_Driver  Engine_Capacity_(CC)  \\\n",
       "0             9              1             -1                    -1   \n",
       "1             1              1             26                    -1   \n",
       "2             9              2             72                   998   \n",
       "3             9              2             44                  1461   \n",
       "4            19              1             40                  2461   \n",
       "\n",
       "   Age_of_Vehicle  Accident_Severity  \n",
       "0              -1                  3  \n",
       "1              -1                  3  \n",
       "2               5                  3  \n",
       "3               1                  3  \n",
       "4               1                  3  "
      ]
     },
     "execution_count": 14,
     "metadata": {},
     "output_type": "execute_result"
    }
   ],
   "source": [
    "# vypísanie hlavičky\n",
    "Selected_Accidents.head()"
   ]
  },
  {
   "cell_type": "code",
   "execution_count": 15,
   "metadata": {},
   "outputs": [
    {
     "name": "stdout",
     "output_type": "stream",
     "text": [
      "(79382, 13)\n"
     ]
    }
   ],
   "source": [
    "# skopírovanie testovacej množiny a kontrola počtu hodnôt\n",
    "test = Selected_Accidents\n",
    "print(test.shape)"
   ]
  },
  {
   "cell_type": "markdown",
   "metadata": {},
   "source": [
    "6. Spočítajte počet chýbajúcich hodnôt pre jednotlivé atribúty. Vhodne doplňte chýbajúce hodnoty (pozor: chýbajúce hodnoty sú označené -1).(4b)\n"
   ]
  },
  {
   "cell_type": "code",
   "execution_count": 16,
   "metadata": {},
   "outputs": [
    {
     "data": {
      "text/plain": [
       "Day_of_Week                0\n",
       "1st_Road_Class             0\n",
       "Road_Type                  0\n",
       "Light_Conditions           0\n",
       "Weather_Conditions         0\n",
       "Road_Surface_Conditions    0\n",
       "Urban_or_Rural_Area        0\n",
       "Vehicle_Type               0\n",
       "Sex_of_Driver              0\n",
       "Age_of_Driver              0\n",
       "Engine_Capacity_(CC)       0\n",
       "Age_of_Vehicle             0\n",
       "Accident_Severity          0\n",
       "dtype: int64"
      ]
     },
     "execution_count": 16,
     "metadata": {},
     "output_type": "execute_result"
    }
   ],
   "source": [
    "#zistenie počtu chýbajúcich hodnôt\n",
    "test.isna().sum()\n"
   ]
  },
  {
   "cell_type": "code",
   "execution_count": 17,
   "metadata": {},
   "outputs": [
    {
     "data": {
      "text/plain": [
       "Day_of_Week                    0\n",
       "1st_Road_Class                 0\n",
       "Road_Type                      0\n",
       "Light_Conditions               0\n",
       "Weather_Conditions             0\n",
       "Road_Surface_Conditions       80\n",
       "Urban_or_Rural_Area            0\n",
       "Vehicle_Type                  14\n",
       "Sex_of_Driver                  7\n",
       "Age_of_Driver               7784\n",
       "Engine_Capacity_(CC)       24978\n",
       "Age_of_Vehicle             27406\n",
       "Accident_Severity              0\n",
       "dtype: int64"
      ]
     },
     "execution_count": 17,
     "metadata": {},
     "output_type": "execute_result"
    }
   ],
   "source": [
    "# zámena chýbajúcich hodnôt z -1 na nan  a zistenie počtu chýbajúcich hodnôt\n",
    "test = test.replace(-1, np.nan)\n",
    "test.isna().sum()"
   ]
  },
  {
   "cell_type": "code",
   "execution_count": 18,
   "metadata": {},
   "outputs": [
    {
     "data": {
      "text/plain": [
       "1.0    54700\n",
       "2.0    23007\n",
       "4.0     1147\n",
       "3.0      358\n",
       "5.0       90\n",
       "Name: Road_Surface_Conditions, dtype: int64"
      ]
     },
     "execution_count": 18,
     "metadata": {},
     "output_type": "execute_result"
    }
   ],
   "source": [
    "# zistenie najpočetnejšej množiny hodnôt pre Road_Surface_Conditions \n",
    "test[\"Road_Surface_Conditions\"].value_counts()"
   ]
  },
  {
   "cell_type": "code",
   "execution_count": 19,
   "metadata": {},
   "outputs": [
    {
     "data": {
      "text/plain": [
       "Day_of_Week                    0\n",
       "1st_Road_Class                 0\n",
       "Road_Type                      0\n",
       "Light_Conditions               0\n",
       "Weather_Conditions             0\n",
       "Road_Surface_Conditions        0\n",
       "Urban_or_Rural_Area            0\n",
       "Vehicle_Type                  14\n",
       "Sex_of_Driver                  7\n",
       "Age_of_Driver               7784\n",
       "Engine_Capacity_(CC)       24978\n",
       "Age_of_Vehicle             27406\n",
       "Accident_Severity              0\n",
       "dtype: int64"
      ]
     },
     "execution_count": 19,
     "metadata": {},
     "output_type": "execute_result"
    }
   ],
   "source": [
    "# nahradenie chýbajúcich hodnôt pre Road_Surface_Conditions na 1.0 a kontrola\n",
    "test[\"Road_Surface_Conditions\"] = test[\"Road_Surface_Conditions\"].fillna(1.0)\n",
    "\n",
    "test.isna().sum()"
   ]
  },
  {
   "cell_type": "code",
   "execution_count": 20,
   "metadata": {},
   "outputs": [
    {
     "data": {
      "text/plain": [
       "1.0    54780\n",
       "2.0    23007\n",
       "4.0     1147\n",
       "3.0      358\n",
       "5.0       90\n",
       "Name: Road_Surface_Conditions, dtype: int64"
      ]
     },
     "execution_count": 20,
     "metadata": {},
     "output_type": "execute_result"
    }
   ],
   "source": [
    "# zistenie najpočetnejšej množiny hodnôt pre Road_Surface_Conditions - kontrola\n",
    "test[\"Road_Surface_Conditions\"].value_counts()"
   ]
  },
  {
   "cell_type": "code",
   "execution_count": 21,
   "metadata": {},
   "outputs": [
    {
     "data": {
      "text/plain": [
       "9.0     55695\n",
       "5.0      4434\n",
       "1.0      3929\n",
       "19.0     3514\n",
       "21.0     2463\n",
       "3.0      2121\n",
       "11.0     2018\n",
       "2.0      1321\n",
       "8.0      1180\n",
       "4.0       908\n",
       "20.0      698\n",
       "90.0      532\n",
       "10.0      281\n",
       "17.0      230\n",
       "16.0       32\n",
       "18.0       12\n",
       "Name: Vehicle_Type, dtype: int64"
      ]
     },
     "execution_count": 21,
     "metadata": {},
     "output_type": "execute_result"
    }
   ],
   "source": [
    "# zistenie najpočetnejšej množiny hodnôt pre Vehicle_Type \n",
    "test[\"Vehicle_Type\"].value_counts()"
   ]
  },
  {
   "cell_type": "code",
   "execution_count": 22,
   "metadata": {},
   "outputs": [
    {
     "data": {
      "text/plain": [
       "Day_of_Week                    0\n",
       "1st_Road_Class                 0\n",
       "Road_Type                      0\n",
       "Light_Conditions               0\n",
       "Weather_Conditions             0\n",
       "Road_Surface_Conditions        0\n",
       "Urban_or_Rural_Area            0\n",
       "Vehicle_Type                   0\n",
       "Sex_of_Driver                  7\n",
       "Age_of_Driver               7784\n",
       "Engine_Capacity_(CC)       24978\n",
       "Age_of_Vehicle             27406\n",
       "Accident_Severity              0\n",
       "dtype: int64"
      ]
     },
     "execution_count": 22,
     "metadata": {},
     "output_type": "execute_result"
    }
   ],
   "source": [
    "# nahradenie chýbajúcich hodnôt pre Vehicle_Type na 9.0 a kontrola\n",
    "test[\"Vehicle_Type\"] = test[\"Vehicle_Type\"].fillna(9.0)\n",
    "\n",
    "test.isna().sum()"
   ]
  },
  {
   "cell_type": "code",
   "execution_count": 23,
   "metadata": {},
   "outputs": [
    {
     "data": {
      "text/plain": [
       "9.0     55709\n",
       "5.0      4434\n",
       "1.0      3929\n",
       "19.0     3514\n",
       "21.0     2463\n",
       "3.0      2121\n",
       "11.0     2018\n",
       "2.0      1321\n",
       "8.0      1180\n",
       "4.0       908\n",
       "20.0      698\n",
       "90.0      532\n",
       "10.0      281\n",
       "17.0      230\n",
       "16.0       32\n",
       "18.0       12\n",
       "Name: Vehicle_Type, dtype: int64"
      ]
     },
     "execution_count": 23,
     "metadata": {},
     "output_type": "execute_result"
    }
   ],
   "source": [
    "# zistenie najpočetnejšej množiny hodnôt pre Vehicle_Type - kontrola\n",
    "test[\"Vehicle_Type\"].value_counts()"
   ]
  },
  {
   "cell_type": "code",
   "execution_count": 24,
   "metadata": {},
   "outputs": [
    {
     "data": {
      "text/plain": [
       "Day_of_Week                    0\n",
       "1st_Road_Class                 0\n",
       "Road_Type                      0\n",
       "Light_Conditions               0\n",
       "Weather_Conditions             0\n",
       "Road_Surface_Conditions        0\n",
       "Urban_or_Rural_Area            0\n",
       "Vehicle_Type                   0\n",
       "Sex_of_Driver                  0\n",
       "Age_of_Driver               7784\n",
       "Engine_Capacity_(CC)       24978\n",
       "Age_of_Vehicle             27406\n",
       "Accident_Severity              0\n",
       "dtype: int64"
      ]
     },
     "execution_count": 24,
     "metadata": {},
     "output_type": "execute_result"
    }
   ],
   "source": [
    "# nahradenie chýbajúcich hodnôt pre Sex_of_Driver na 3 (Not known) a kontrola\n",
    "test[\"Sex_of_Driver\"] = test[\"Sex_of_Driver\"].fillna(3)\n",
    "\n",
    "test.isna().sum()"
   ]
  },
  {
   "cell_type": "code",
   "execution_count": 25,
   "metadata": {},
   "outputs": [
    {
     "data": {
      "text/plain": [
       "count    71598.000000\n",
       "mean        37.864493\n",
       "std         15.839549\n",
       "min          3.000000\n",
       "25%         25.000000\n",
       "50%         36.000000\n",
       "75%         48.000000\n",
       "max         98.000000\n",
       "Name: Age_of_Driver, dtype: float64"
      ]
     },
     "execution_count": 25,
     "metadata": {},
     "output_type": "execute_result"
    }
   ],
   "source": [
    "# zobrazenie štatistík pre Age_of_Driver\n",
    "test[\"Age_of_Driver\"].describe()"
   ]
  },
  {
   "cell_type": "code",
   "execution_count": 26,
   "metadata": {},
   "outputs": [
    {
     "data": {
      "text/plain": [
       "Day_of_Week                    0\n",
       "1st_Road_Class                 0\n",
       "Road_Type                      0\n",
       "Light_Conditions               0\n",
       "Weather_Conditions             0\n",
       "Road_Surface_Conditions        0\n",
       "Urban_or_Rural_Area            0\n",
       "Vehicle_Type                   0\n",
       "Sex_of_Driver                  0\n",
       "Age_of_Driver                  0\n",
       "Engine_Capacity_(CC)       24978\n",
       "Age_of_Vehicle             27406\n",
       "Accident_Severity              0\n",
       "dtype: int64"
      ]
     },
     "execution_count": 26,
     "metadata": {},
     "output_type": "execute_result"
    }
   ],
   "source": [
    "# nahradenie chýbajúcich hodnôt pre Age_of_Driver mediánom a kontrola\n",
    "test[\"Age_of_Driver\"] = test[\"Age_of_Driver\"].fillna(test[\"Age_of_Driver\"].median())\n",
    "\n",
    "test.isna().sum() "
   ]
  },
  {
   "cell_type": "code",
   "execution_count": 27,
   "metadata": {},
   "outputs": [
    {
     "data": {
      "text/plain": [
       "count    54404.000000\n",
       "mean      1918.808396\n",
       "std       1863.972318\n",
       "min          6.000000\n",
       "25%       1242.000000\n",
       "50%       1597.000000\n",
       "75%       1991.000000\n",
       "max      59880.000000\n",
       "Name: Engine_Capacity_(CC), dtype: float64"
      ]
     },
     "execution_count": 27,
     "metadata": {},
     "output_type": "execute_result"
    }
   ],
   "source": [
    "# zobrazenie štatistík pre Engine_Capacity_(CC)\n",
    "test[\"Engine_Capacity_(CC)\"].describe()"
   ]
  },
  {
   "cell_type": "code",
   "execution_count": 28,
   "metadata": {},
   "outputs": [
    {
     "data": {
      "text/plain": [
       "Day_of_Week                    0\n",
       "1st_Road_Class                 0\n",
       "Road_Type                      0\n",
       "Light_Conditions               0\n",
       "Weather_Conditions             0\n",
       "Road_Surface_Conditions        0\n",
       "Urban_or_Rural_Area            0\n",
       "Vehicle_Type                   0\n",
       "Sex_of_Driver                  0\n",
       "Age_of_Driver                  0\n",
       "Engine_Capacity_(CC)           0\n",
       "Age_of_Vehicle             27406\n",
       "Accident_Severity              0\n",
       "dtype: int64"
      ]
     },
     "execution_count": 28,
     "metadata": {},
     "output_type": "execute_result"
    }
   ],
   "source": [
    "# nahradenie chýbajúcich hodnôt pre Engine_Capacity_(CC) mediánom a kontrola\n",
    "test[\"Engine_Capacity_(CC)\"] = test[\"Engine_Capacity_(CC)\"].fillna(test[\"Engine_Capacity_(CC)\"].median())\n",
    "\n",
    "test.isna().sum()"
   ]
  },
  {
   "cell_type": "code",
   "execution_count": 29,
   "metadata": {},
   "outputs": [
    {
     "data": {
      "text/plain": [
       "count    51976.000000\n",
       "mean         6.658227\n",
       "std          4.443063\n",
       "min          1.000000\n",
       "25%          3.000000\n",
       "50%          6.000000\n",
       "75%          9.000000\n",
       "max         84.000000\n",
       "Name: Age_of_Vehicle, dtype: float64"
      ]
     },
     "execution_count": 29,
     "metadata": {},
     "output_type": "execute_result"
    }
   ],
   "source": [
    "# zobrazenie štatistík pre Age_of_Vehicle\n",
    "test[\"Age_of_Vehicle\"].describe()"
   ]
  },
  {
   "cell_type": "code",
   "execution_count": 30,
   "metadata": {},
   "outputs": [
    {
     "data": {
      "text/plain": [
       "Day_of_Week                0\n",
       "1st_Road_Class             0\n",
       "Road_Type                  0\n",
       "Light_Conditions           0\n",
       "Weather_Conditions         0\n",
       "Road_Surface_Conditions    0\n",
       "Urban_or_Rural_Area        0\n",
       "Vehicle_Type               0\n",
       "Sex_of_Driver              0\n",
       "Age_of_Driver              0\n",
       "Engine_Capacity_(CC)       0\n",
       "Age_of_Vehicle             0\n",
       "Accident_Severity          0\n",
       "dtype: int64"
      ]
     },
     "execution_count": 30,
     "metadata": {},
     "output_type": "execute_result"
    }
   ],
   "source": [
    "# nahradenie chýbajúcich hodnôt pre Age_of_Vehicle mediánom a kontrola\n",
    "test[\"Age_of_Vehicle\"] = test[\"Age_of_Vehicle\"].fillna(test[\"Age_of_Vehicle\"].median())\n",
    "\n",
    "test.isna().sum()"
   ]
  },
  {
   "cell_type": "markdown",
   "metadata": {},
   "source": [
    "7. Pomocou konfigenčnej tabuľky vyjadrite závislosti medzi nasledujúcimi atribútmi a cieľovým atribútom `Accident_Severity`:\n",
    "* `Day_of_Week` \n",
    "* `Sex_of_Driver`\n",
    "* `Age_of_Driver` (nutné vhodne diskretizovať tento atribút)\n",
    "\n",
    "Použite niektorú z vizualizácií knižnice seaborn na grafické zobrazenie týchto vzťahov. (5b)"
   ]
  },
  {
   "cell_type": "code",
   "execution_count": 31,
   "metadata": {},
   "outputs": [
    {
     "data": {
      "text/plain": [
       "1.0    56005\n",
       "2.0    19020\n",
       "3.0     4357\n",
       "Name: Sex_of_Driver, dtype: int64"
      ]
     },
     "execution_count": 31,
     "metadata": {},
     "output_type": "execute_result"
    }
   ],
   "source": [
    "# zistenie najpočetnejšej množiny hodnôt pre Sex_of_Driver\n",
    "test[\"Sex_of_Driver\"].value_counts()"
   ]
  },
  {
   "cell_type": "code",
   "execution_count": 32,
   "metadata": {},
   "outputs": [
    {
     "data": {
      "text/plain": [
       "1.0    56005\n",
       "2.0    19020\n",
       "Name: Sex_of_Driver, dtype: int64"
      ]
     },
     "execution_count": 32,
     "metadata": {},
     "output_type": "execute_result"
    }
   ],
   "source": [
    "# vynechanie atribútu Sex_of_Driver má hodnotu 3(Not known) - vzľadom na zanedbateľný počet\n",
    "test = test.query(\"Sex_of_Driver != 3\")\n",
    "test[\"Sex_of_Driver\"].value_counts()"
   ]
  },
  {
   "cell_type": "code",
   "execution_count": 33,
   "metadata": {},
   "outputs": [
    {
     "data": {
      "text/plain": [
       "count    75025.000000\n",
       "mean        37.789803\n",
       "std         15.459793\n",
       "min          3.000000\n",
       "25%         25.000000\n",
       "50%         36.000000\n",
       "75%         47.000000\n",
       "max         98.000000\n",
       "Name: Age_of_Driver, dtype: float64"
      ]
     },
     "execution_count": 33,
     "metadata": {},
     "output_type": "execute_result"
    }
   ],
   "source": [
    "# zobrazenie štatistík pre Age_of_Driver\n",
    "test[\"Age_of_Driver\"].describe()"
   ]
  },
  {
   "cell_type": "code",
   "execution_count": 34,
   "metadata": {},
   "outputs": [
    {
     "data": {
      "text/plain": [
       "Young         29171\n",
       "Middle_Age    19253\n",
       "Older         14553\n",
       "Senior         6089\n",
       "Children       5959\n",
       "Name: Age_of_Driver_ordinal, dtype: int64"
      ]
     },
     "execution_count": 34,
     "metadata": {},
     "output_type": "execute_result"
    }
   ],
   "source": [
    "# max vek vodiča 98, minimálny vek vodiča  3 ???\n",
    "# diskretizácia atribútu Age_of_Driver\n",
    "test[\"Age_of_Driver_ordinal\"] = pd.cut(test[\"Age_of_Driver\"], bins=[3, 18, 35, 45, 61, 98], include_lowest=True, labels=[\"Children\", \"Young\", \"Middle_Age\", \"Older\", \"Senior\"])\n",
    "test[\"Age_of_Driver_ordinal\"].value_counts()"
   ]
  },
  {
   "cell_type": "code",
   "execution_count": 35,
   "metadata": {},
   "outputs": [
    {
     "data": {
      "text/html": [
       "<div>\n",
       "<style scoped>\n",
       "    .dataframe tbody tr th:only-of-type {\n",
       "        vertical-align: middle;\n",
       "    }\n",
       "\n",
       "    .dataframe tbody tr th {\n",
       "        vertical-align: top;\n",
       "    }\n",
       "\n",
       "    .dataframe thead tr th {\n",
       "        text-align: left;\n",
       "    }\n",
       "\n",
       "    .dataframe thead tr:last-of-type th {\n",
       "        text-align: right;\n",
       "    }\n",
       "</style>\n",
       "<table border=\"1\" class=\"dataframe\">\n",
       "  <thead>\n",
       "    <tr>\n",
       "      <th></th>\n",
       "      <th></th>\n",
       "      <th></th>\n",
       "      <th>median</th>\n",
       "      <th>mean</th>\n",
       "      <th>min</th>\n",
       "      <th>max</th>\n",
       "      <th>count</th>\n",
       "    </tr>\n",
       "    <tr>\n",
       "      <th></th>\n",
       "      <th></th>\n",
       "      <th></th>\n",
       "      <th>Age_of_Driver</th>\n",
       "      <th>Age_of_Driver</th>\n",
       "      <th>Age_of_Driver</th>\n",
       "      <th>Age_of_Driver</th>\n",
       "      <th>Age_of_Driver</th>\n",
       "    </tr>\n",
       "    <tr>\n",
       "      <th>Day_of_Week</th>\n",
       "      <th>Sex_of_Driver</th>\n",
       "      <th>Accident_Severity</th>\n",
       "      <th></th>\n",
       "      <th></th>\n",
       "      <th></th>\n",
       "      <th></th>\n",
       "      <th></th>\n",
       "    </tr>\n",
       "  </thead>\n",
       "  <tbody>\n",
       "    <tr>\n",
       "      <td rowspan=\"6\" valign=\"top\">1</td>\n",
       "      <td rowspan=\"3\" valign=\"top\">1.0</td>\n",
       "      <td>1</td>\n",
       "      <td>36.0</td>\n",
       "      <td>38.272864</td>\n",
       "      <td>9.0</td>\n",
       "      <td>88.0</td>\n",
       "      <td>667</td>\n",
       "    </tr>\n",
       "    <tr>\n",
       "      <td>2</td>\n",
       "      <td>36.0</td>\n",
       "      <td>36.819786</td>\n",
       "      <td>6.0</td>\n",
       "      <td>93.0</td>\n",
       "      <td>4023</td>\n",
       "    </tr>\n",
       "    <tr>\n",
       "      <td>3</td>\n",
       "      <td>34.0</td>\n",
       "      <td>35.755499</td>\n",
       "      <td>8.0</td>\n",
       "      <td>91.0</td>\n",
       "      <td>2364</td>\n",
       "    </tr>\n",
       "    <tr>\n",
       "      <td rowspan=\"3\" valign=\"top\">2.0</td>\n",
       "      <td>1</td>\n",
       "      <td>36.0</td>\n",
       "      <td>39.356436</td>\n",
       "      <td>18.0</td>\n",
       "      <td>85.0</td>\n",
       "      <td>101</td>\n",
       "    </tr>\n",
       "    <tr>\n",
       "      <td>2</td>\n",
       "      <td>36.0</td>\n",
       "      <td>38.170662</td>\n",
       "      <td>7.0</td>\n",
       "      <td>92.0</td>\n",
       "      <td>1043</td>\n",
       "    </tr>\n",
       "    <tr>\n",
       "      <td>3</td>\n",
       "      <td>34.0</td>\n",
       "      <td>35.731771</td>\n",
       "      <td>6.0</td>\n",
       "      <td>86.0</td>\n",
       "      <td>768</td>\n",
       "    </tr>\n",
       "    <tr>\n",
       "      <td rowspan=\"6\" valign=\"top\">2</td>\n",
       "      <td rowspan=\"3\" valign=\"top\">1.0</td>\n",
       "      <td>1</td>\n",
       "      <td>37.0</td>\n",
       "      <td>40.242370</td>\n",
       "      <td>11.0</td>\n",
       "      <td>90.0</td>\n",
       "      <td>557</td>\n",
       "    </tr>\n",
       "    <tr>\n",
       "      <td>2</td>\n",
       "      <td>36.0</td>\n",
       "      <td>38.271166</td>\n",
       "      <td>5.0</td>\n",
       "      <td>95.0</td>\n",
       "      <td>4134</td>\n",
       "    </tr>\n",
       "    <tr>\n",
       "      <td>3</td>\n",
       "      <td>36.0</td>\n",
       "      <td>38.215233</td>\n",
       "      <td>3.0</td>\n",
       "      <td>93.0</td>\n",
       "      <td>2941</td>\n",
       "    </tr>\n",
       "    <tr>\n",
       "      <td rowspan=\"3\" valign=\"top\">2.0</td>\n",
       "      <td>1</td>\n",
       "      <td>41.0</td>\n",
       "      <td>44.614035</td>\n",
       "      <td>18.0</td>\n",
       "      <td>89.0</td>\n",
       "      <td>114</td>\n",
       "    </tr>\n",
       "    <tr>\n",
       "      <td>2</td>\n",
       "      <td>36.0</td>\n",
       "      <td>38.750000</td>\n",
       "      <td>7.0</td>\n",
       "      <td>98.0</td>\n",
       "      <td>1264</td>\n",
       "    </tr>\n",
       "    <tr>\n",
       "      <td>3</td>\n",
       "      <td>36.0</td>\n",
       "      <td>36.904100</td>\n",
       "      <td>4.0</td>\n",
       "      <td>91.0</td>\n",
       "      <td>1366</td>\n",
       "    </tr>\n",
       "    <tr>\n",
       "      <td rowspan=\"6\" valign=\"top\">3</td>\n",
       "      <td rowspan=\"3\" valign=\"top\">1.0</td>\n",
       "      <td>1</td>\n",
       "      <td>38.0</td>\n",
       "      <td>40.667870</td>\n",
       "      <td>14.0</td>\n",
       "      <td>95.0</td>\n",
       "      <td>554</td>\n",
       "    </tr>\n",
       "    <tr>\n",
       "      <td>2</td>\n",
       "      <td>36.0</td>\n",
       "      <td>37.971887</td>\n",
       "      <td>3.0</td>\n",
       "      <td>92.0</td>\n",
       "      <td>4304</td>\n",
       "    </tr>\n",
       "    <tr>\n",
       "      <td>3</td>\n",
       "      <td>36.0</td>\n",
       "      <td>37.557445</td>\n",
       "      <td>6.0</td>\n",
       "      <td>90.0</td>\n",
       "      <td>3116</td>\n",
       "    </tr>\n",
       "    <tr>\n",
       "      <td rowspan=\"3\" valign=\"top\">2.0</td>\n",
       "      <td>1</td>\n",
       "      <td>36.0</td>\n",
       "      <td>38.237624</td>\n",
       "      <td>16.0</td>\n",
       "      <td>81.0</td>\n",
       "      <td>101</td>\n",
       "    </tr>\n",
       "    <tr>\n",
       "      <td>2</td>\n",
       "      <td>36.0</td>\n",
       "      <td>38.428148</td>\n",
       "      <td>7.0</td>\n",
       "      <td>90.0</td>\n",
       "      <td>1350</td>\n",
       "    </tr>\n",
       "    <tr>\n",
       "      <td>3</td>\n",
       "      <td>36.0</td>\n",
       "      <td>37.334951</td>\n",
       "      <td>6.0</td>\n",
       "      <td>90.0</td>\n",
       "      <td>1442</td>\n",
       "    </tr>\n",
       "    <tr>\n",
       "      <td rowspan=\"6\" valign=\"top\">4</td>\n",
       "      <td rowspan=\"3\" valign=\"top\">1.0</td>\n",
       "      <td>1</td>\n",
       "      <td>38.0</td>\n",
       "      <td>39.866290</td>\n",
       "      <td>9.0</td>\n",
       "      <td>89.0</td>\n",
       "      <td>531</td>\n",
       "    </tr>\n",
       "    <tr>\n",
       "      <td>2</td>\n",
       "      <td>36.0</td>\n",
       "      <td>38.161027</td>\n",
       "      <td>6.0</td>\n",
       "      <td>93.0</td>\n",
       "      <td>4285</td>\n",
       "    </tr>\n",
       "    <tr>\n",
       "      <td>3</td>\n",
       "      <td>36.0</td>\n",
       "      <td>37.925321</td>\n",
       "      <td>6.0</td>\n",
       "      <td>92.0</td>\n",
       "      <td>3120</td>\n",
       "    </tr>\n",
       "    <tr>\n",
       "      <td rowspan=\"3\" valign=\"top\">2.0</td>\n",
       "      <td>1</td>\n",
       "      <td>36.0</td>\n",
       "      <td>39.707483</td>\n",
       "      <td>17.0</td>\n",
       "      <td>85.0</td>\n",
       "      <td>147</td>\n",
       "    </tr>\n",
       "    <tr>\n",
       "      <td>2</td>\n",
       "      <td>36.0</td>\n",
       "      <td>38.522942</td>\n",
       "      <td>7.0</td>\n",
       "      <td>85.0</td>\n",
       "      <td>1373</td>\n",
       "    </tr>\n",
       "    <tr>\n",
       "      <td>3</td>\n",
       "      <td>36.0</td>\n",
       "      <td>37.681392</td>\n",
       "      <td>7.0</td>\n",
       "      <td>98.0</td>\n",
       "      <td>1494</td>\n",
       "    </tr>\n",
       "    <tr>\n",
       "      <td rowspan=\"6\" valign=\"top\">5</td>\n",
       "      <td rowspan=\"3\" valign=\"top\">1.0</td>\n",
       "      <td>1</td>\n",
       "      <td>39.0</td>\n",
       "      <td>40.881262</td>\n",
       "      <td>8.0</td>\n",
       "      <td>91.0</td>\n",
       "      <td>539</td>\n",
       "    </tr>\n",
       "    <tr>\n",
       "      <td>2</td>\n",
       "      <td>36.0</td>\n",
       "      <td>37.858026</td>\n",
       "      <td>3.0</td>\n",
       "      <td>92.0</td>\n",
       "      <td>4367</td>\n",
       "    </tr>\n",
       "    <tr>\n",
       "      <td>3</td>\n",
       "      <td>36.0</td>\n",
       "      <td>38.065051</td>\n",
       "      <td>5.0</td>\n",
       "      <td>90.0</td>\n",
       "      <td>3136</td>\n",
       "    </tr>\n",
       "    <tr>\n",
       "      <td rowspan=\"3\" valign=\"top\">2.0</td>\n",
       "      <td>1</td>\n",
       "      <td>40.0</td>\n",
       "      <td>43.172414</td>\n",
       "      <td>17.0</td>\n",
       "      <td>92.0</td>\n",
       "      <td>116</td>\n",
       "    </tr>\n",
       "    <tr>\n",
       "      <td>2</td>\n",
       "      <td>38.0</td>\n",
       "      <td>39.860145</td>\n",
       "      <td>5.0</td>\n",
       "      <td>95.0</td>\n",
       "      <td>1380</td>\n",
       "    </tr>\n",
       "    <tr>\n",
       "      <td>3</td>\n",
       "      <td>36.0</td>\n",
       "      <td>37.381479</td>\n",
       "      <td>8.0</td>\n",
       "      <td>92.0</td>\n",
       "      <td>1447</td>\n",
       "    </tr>\n",
       "    <tr>\n",
       "      <td rowspan=\"6\" valign=\"top\">6</td>\n",
       "      <td rowspan=\"3\" valign=\"top\">1.0</td>\n",
       "      <td>1</td>\n",
       "      <td>38.0</td>\n",
       "      <td>40.400908</td>\n",
       "      <td>10.0</td>\n",
       "      <td>94.0</td>\n",
       "      <td>661</td>\n",
       "    </tr>\n",
       "    <tr>\n",
       "      <td>2</td>\n",
       "      <td>36.0</td>\n",
       "      <td>37.408400</td>\n",
       "      <td>4.0</td>\n",
       "      <td>93.0</td>\n",
       "      <td>5000</td>\n",
       "    </tr>\n",
       "    <tr>\n",
       "      <td>3</td>\n",
       "      <td>36.0</td>\n",
       "      <td>37.826651</td>\n",
       "      <td>6.0</td>\n",
       "      <td>93.0</td>\n",
       "      <td>3467</td>\n",
       "    </tr>\n",
       "    <tr>\n",
       "      <td rowspan=\"3\" valign=\"top\">2.0</td>\n",
       "      <td>1</td>\n",
       "      <td>40.0</td>\n",
       "      <td>43.044248</td>\n",
       "      <td>14.0</td>\n",
       "      <td>91.0</td>\n",
       "      <td>113</td>\n",
       "    </tr>\n",
       "    <tr>\n",
       "      <td>2</td>\n",
       "      <td>36.0</td>\n",
       "      <td>38.481233</td>\n",
       "      <td>6.0</td>\n",
       "      <td>92.0</td>\n",
       "      <td>1492</td>\n",
       "    </tr>\n",
       "    <tr>\n",
       "      <td>3</td>\n",
       "      <td>35.0</td>\n",
       "      <td>36.841689</td>\n",
       "      <td>6.0</td>\n",
       "      <td>92.0</td>\n",
       "      <td>1516</td>\n",
       "    </tr>\n",
       "    <tr>\n",
       "      <td rowspan=\"6\" valign=\"top\">7</td>\n",
       "      <td rowspan=\"3\" valign=\"top\">1.0</td>\n",
       "      <td>1</td>\n",
       "      <td>35.0</td>\n",
       "      <td>37.979740</td>\n",
       "      <td>4.0</td>\n",
       "      <td>93.0</td>\n",
       "      <td>691</td>\n",
       "    </tr>\n",
       "    <tr>\n",
       "      <td>2</td>\n",
       "      <td>35.0</td>\n",
       "      <td>36.273698</td>\n",
       "      <td>3.0</td>\n",
       "      <td>93.0</td>\n",
       "      <td>4684</td>\n",
       "    </tr>\n",
       "    <tr>\n",
       "      <td>3</td>\n",
       "      <td>36.0</td>\n",
       "      <td>37.537709</td>\n",
       "      <td>6.0</td>\n",
       "      <td>90.0</td>\n",
       "      <td>2864</td>\n",
       "    </tr>\n",
       "    <tr>\n",
       "      <td rowspan=\"3\" valign=\"top\">2.0</td>\n",
       "      <td>1</td>\n",
       "      <td>36.0</td>\n",
       "      <td>40.580882</td>\n",
       "      <td>17.0</td>\n",
       "      <td>90.0</td>\n",
       "      <td>136</td>\n",
       "    </tr>\n",
       "    <tr>\n",
       "      <td>2</td>\n",
       "      <td>36.0</td>\n",
       "      <td>38.627984</td>\n",
       "      <td>4.0</td>\n",
       "      <td>91.0</td>\n",
       "      <td>1215</td>\n",
       "    </tr>\n",
       "    <tr>\n",
       "      <td>3</td>\n",
       "      <td>35.0</td>\n",
       "      <td>36.176583</td>\n",
       "      <td>7.0</td>\n",
       "      <td>91.0</td>\n",
       "      <td>1042</td>\n",
       "    </tr>\n",
       "    <tr>\n",
       "      <td>All</td>\n",
       "      <td></td>\n",
       "      <td></td>\n",
       "      <td>36.0</td>\n",
       "      <td>37.789803</td>\n",
       "      <td>3.0</td>\n",
       "      <td>98.0</td>\n",
       "      <td>75025</td>\n",
       "    </tr>\n",
       "  </tbody>\n",
       "</table>\n",
       "</div>"
      ],
      "text/plain": [
       "                                                   median          mean  \\\n",
       "                                            Age_of_Driver Age_of_Driver   \n",
       "Day_of_Week Sex_of_Driver Accident_Severity                               \n",
       "1           1.0           1                          36.0     38.272864   \n",
       "                          2                          36.0     36.819786   \n",
       "                          3                          34.0     35.755499   \n",
       "            2.0           1                          36.0     39.356436   \n",
       "                          2                          36.0     38.170662   \n",
       "                          3                          34.0     35.731771   \n",
       "2           1.0           1                          37.0     40.242370   \n",
       "                          2                          36.0     38.271166   \n",
       "                          3                          36.0     38.215233   \n",
       "            2.0           1                          41.0     44.614035   \n",
       "                          2                          36.0     38.750000   \n",
       "                          3                          36.0     36.904100   \n",
       "3           1.0           1                          38.0     40.667870   \n",
       "                          2                          36.0     37.971887   \n",
       "                          3                          36.0     37.557445   \n",
       "            2.0           1                          36.0     38.237624   \n",
       "                          2                          36.0     38.428148   \n",
       "                          3                          36.0     37.334951   \n",
       "4           1.0           1                          38.0     39.866290   \n",
       "                          2                          36.0     38.161027   \n",
       "                          3                          36.0     37.925321   \n",
       "            2.0           1                          36.0     39.707483   \n",
       "                          2                          36.0     38.522942   \n",
       "                          3                          36.0     37.681392   \n",
       "5           1.0           1                          39.0     40.881262   \n",
       "                          2                          36.0     37.858026   \n",
       "                          3                          36.0     38.065051   \n",
       "            2.0           1                          40.0     43.172414   \n",
       "                          2                          38.0     39.860145   \n",
       "                          3                          36.0     37.381479   \n",
       "6           1.0           1                          38.0     40.400908   \n",
       "                          2                          36.0     37.408400   \n",
       "                          3                          36.0     37.826651   \n",
       "            2.0           1                          40.0     43.044248   \n",
       "                          2                          36.0     38.481233   \n",
       "                          3                          35.0     36.841689   \n",
       "7           1.0           1                          35.0     37.979740   \n",
       "                          2                          35.0     36.273698   \n",
       "                          3                          36.0     37.537709   \n",
       "            2.0           1                          36.0     40.580882   \n",
       "                          2                          36.0     38.627984   \n",
       "                          3                          35.0     36.176583   \n",
       "All                                                  36.0     37.789803   \n",
       "\n",
       "                                                      min           max  \\\n",
       "                                            Age_of_Driver Age_of_Driver   \n",
       "Day_of_Week Sex_of_Driver Accident_Severity                               \n",
       "1           1.0           1                           9.0          88.0   \n",
       "                          2                           6.0          93.0   \n",
       "                          3                           8.0          91.0   \n",
       "            2.0           1                          18.0          85.0   \n",
       "                          2                           7.0          92.0   \n",
       "                          3                           6.0          86.0   \n",
       "2           1.0           1                          11.0          90.0   \n",
       "                          2                           5.0          95.0   \n",
       "                          3                           3.0          93.0   \n",
       "            2.0           1                          18.0          89.0   \n",
       "                          2                           7.0          98.0   \n",
       "                          3                           4.0          91.0   \n",
       "3           1.0           1                          14.0          95.0   \n",
       "                          2                           3.0          92.0   \n",
       "                          3                           6.0          90.0   \n",
       "            2.0           1                          16.0          81.0   \n",
       "                          2                           7.0          90.0   \n",
       "                          3                           6.0          90.0   \n",
       "4           1.0           1                           9.0          89.0   \n",
       "                          2                           6.0          93.0   \n",
       "                          3                           6.0          92.0   \n",
       "            2.0           1                          17.0          85.0   \n",
       "                          2                           7.0          85.0   \n",
       "                          3                           7.0          98.0   \n",
       "5           1.0           1                           8.0          91.0   \n",
       "                          2                           3.0          92.0   \n",
       "                          3                           5.0          90.0   \n",
       "            2.0           1                          17.0          92.0   \n",
       "                          2                           5.0          95.0   \n",
       "                          3                           8.0          92.0   \n",
       "6           1.0           1                          10.0          94.0   \n",
       "                          2                           4.0          93.0   \n",
       "                          3                           6.0          93.0   \n",
       "            2.0           1                          14.0          91.0   \n",
       "                          2                           6.0          92.0   \n",
       "                          3                           6.0          92.0   \n",
       "7           1.0           1                           4.0          93.0   \n",
       "                          2                           3.0          93.0   \n",
       "                          3                           6.0          90.0   \n",
       "            2.0           1                          17.0          90.0   \n",
       "                          2                           4.0          91.0   \n",
       "                          3                           7.0          91.0   \n",
       "All                                                   3.0          98.0   \n",
       "\n",
       "                                                    count  \n",
       "                                            Age_of_Driver  \n",
       "Day_of_Week Sex_of_Driver Accident_Severity                \n",
       "1           1.0           1                           667  \n",
       "                          2                          4023  \n",
       "                          3                          2364  \n",
       "            2.0           1                           101  \n",
       "                          2                          1043  \n",
       "                          3                           768  \n",
       "2           1.0           1                           557  \n",
       "                          2                          4134  \n",
       "                          3                          2941  \n",
       "            2.0           1                           114  \n",
       "                          2                          1264  \n",
       "                          3                          1366  \n",
       "3           1.0           1                           554  \n",
       "                          2                          4304  \n",
       "                          3                          3116  \n",
       "            2.0           1                           101  \n",
       "                          2                          1350  \n",
       "                          3                          1442  \n",
       "4           1.0           1                           531  \n",
       "                          2                          4285  \n",
       "                          3                          3120  \n",
       "            2.0           1                           147  \n",
       "                          2                          1373  \n",
       "                          3                          1494  \n",
       "5           1.0           1                           539  \n",
       "                          2                          4367  \n",
       "                          3                          3136  \n",
       "            2.0           1                           116  \n",
       "                          2                          1380  \n",
       "                          3                          1447  \n",
       "6           1.0           1                           661  \n",
       "                          2                          5000  \n",
       "                          3                          3467  \n",
       "            2.0           1                           113  \n",
       "                          2                          1492  \n",
       "                          3                          1516  \n",
       "7           1.0           1                           691  \n",
       "                          2                          4684  \n",
       "                          3                          2864  \n",
       "            2.0           1                           136  \n",
       "                          2                          1215  \n",
       "                          3                          1042  \n",
       "All                                                 75025  "
      ]
     },
     "execution_count": 35,
     "metadata": {},
     "output_type": "execute_result"
    }
   ],
   "source": [
    "# konfigenčná tabuľka\n",
    "pd.pivot_table(test, index=[\"Day_of_Week\", \"Sex_of_Driver\", \"Accident_Severity\"], values=\"Age_of_Driver\", aggfunc=[\"median\", \"mean\", \"min\", \"max\", \"count\"], margins=True)                                                           "
   ]
  },
  {
   "cell_type": "code",
   "execution_count": 36,
   "metadata": {},
   "outputs": [
    {
     "data": {
      "text/html": [
       "<div>\n",
       "<style scoped>\n",
       "    .dataframe tbody tr th:only-of-type {\n",
       "        vertical-align: middle;\n",
       "    }\n",
       "\n",
       "    .dataframe tbody tr th {\n",
       "        vertical-align: top;\n",
       "    }\n",
       "\n",
       "    .dataframe thead th {\n",
       "        text-align: right;\n",
       "    }\n",
       "</style>\n",
       "<table border=\"1\" class=\"dataframe\">\n",
       "  <thead>\n",
       "    <tr style=\"text-align: right;\">\n",
       "      <th></th>\n",
       "      <th>Day_of_Week</th>\n",
       "      <th>1</th>\n",
       "      <th>2</th>\n",
       "      <th>3</th>\n",
       "      <th>4</th>\n",
       "      <th>5</th>\n",
       "      <th>6</th>\n",
       "      <th>7</th>\n",
       "    </tr>\n",
       "    <tr>\n",
       "      <th>Age_of_Driver_ordinal</th>\n",
       "      <th>Sex_of_Driver</th>\n",
       "      <th></th>\n",
       "      <th></th>\n",
       "      <th></th>\n",
       "      <th></th>\n",
       "      <th></th>\n",
       "      <th></th>\n",
       "      <th></th>\n",
       "    </tr>\n",
       "  </thead>\n",
       "  <tbody>\n",
       "    <tr>\n",
       "      <td rowspan=\"2\" valign=\"top\">Children</td>\n",
       "      <td>1.0</td>\n",
       "      <td>2.249645</td>\n",
       "      <td>2.292800</td>\n",
       "      <td>2.332344</td>\n",
       "      <td>2.302711</td>\n",
       "      <td>2.331903</td>\n",
       "      <td>2.257104</td>\n",
       "      <td>2.234474</td>\n",
       "    </tr>\n",
       "    <tr>\n",
       "      <td>2.0</td>\n",
       "      <td>2.307692</td>\n",
       "      <td>2.433566</td>\n",
       "      <td>2.477124</td>\n",
       "      <td>2.450000</td>\n",
       "      <td>2.431373</td>\n",
       "      <td>2.439560</td>\n",
       "      <td>2.331361</td>\n",
       "    </tr>\n",
       "    <tr>\n",
       "      <td rowspan=\"2\" valign=\"top\">Young</td>\n",
       "      <td>1.0</td>\n",
       "      <td>2.261113</td>\n",
       "      <td>2.297151</td>\n",
       "      <td>2.323986</td>\n",
       "      <td>2.327657</td>\n",
       "      <td>2.314305</td>\n",
       "      <td>2.318567</td>\n",
       "      <td>2.239587</td>\n",
       "    </tr>\n",
       "    <tr>\n",
       "      <td>2.0</td>\n",
       "      <td>2.395566</td>\n",
       "      <td>2.488330</td>\n",
       "      <td>2.478477</td>\n",
       "      <td>2.430807</td>\n",
       "      <td>2.509565</td>\n",
       "      <td>2.487509</td>\n",
       "      <td>2.411940</td>\n",
       "    </tr>\n",
       "    <tr>\n",
       "      <td rowspan=\"2\" valign=\"top\">Middle_Age</td>\n",
       "      <td>1.0</td>\n",
       "      <td>2.249856</td>\n",
       "      <td>2.380051</td>\n",
       "      <td>2.360805</td>\n",
       "      <td>2.358913</td>\n",
       "      <td>2.372361</td>\n",
       "      <td>2.343103</td>\n",
       "      <td>2.311594</td>\n",
       "    </tr>\n",
       "    <tr>\n",
       "      <td>2.0</td>\n",
       "      <td>2.343115</td>\n",
       "      <td>2.504021</td>\n",
       "      <td>2.458172</td>\n",
       "      <td>2.503650</td>\n",
       "      <td>2.456494</td>\n",
       "      <td>2.456919</td>\n",
       "      <td>2.430631</td>\n",
       "    </tr>\n",
       "    <tr>\n",
       "      <td rowspan=\"2\" valign=\"top\">Older</td>\n",
       "      <td>1.0</td>\n",
       "      <td>2.195507</td>\n",
       "      <td>2.302769</td>\n",
       "      <td>2.283479</td>\n",
       "      <td>2.320102</td>\n",
       "      <td>2.282424</td>\n",
       "      <td>2.270377</td>\n",
       "      <td>2.268615</td>\n",
       "    </tr>\n",
       "    <tr>\n",
       "      <td>2.0</td>\n",
       "      <td>2.308782</td>\n",
       "      <td>2.415584</td>\n",
       "      <td>2.469274</td>\n",
       "      <td>2.457483</td>\n",
       "      <td>2.420622</td>\n",
       "      <td>2.423263</td>\n",
       "      <td>2.335541</td>\n",
       "    </tr>\n",
       "    <tr>\n",
       "      <td rowspan=\"2\" valign=\"top\">Senior</td>\n",
       "      <td>1.0</td>\n",
       "      <td>2.191682</td>\n",
       "      <td>2.217125</td>\n",
       "      <td>2.264122</td>\n",
       "      <td>2.255917</td>\n",
       "      <td>2.297297</td>\n",
       "      <td>2.281501</td>\n",
       "      <td>2.258410</td>\n",
       "    </tr>\n",
       "    <tr>\n",
       "      <td>2.0</td>\n",
       "      <td>2.225806</td>\n",
       "      <td>2.227723</td>\n",
       "      <td>2.376147</td>\n",
       "      <td>2.300000</td>\n",
       "      <td>2.254237</td>\n",
       "      <td>2.287554</td>\n",
       "      <td>2.213270</td>\n",
       "    </tr>\n",
       "  </tbody>\n",
       "</table>\n",
       "</div>"
      ],
      "text/plain": [
       "Day_of_Week                                 1         2         3         4  \\\n",
       "Age_of_Driver_ordinal Sex_of_Driver                                           \n",
       "Children              1.0            2.249645  2.292800  2.332344  2.302711   \n",
       "                      2.0            2.307692  2.433566  2.477124  2.450000   \n",
       "Young                 1.0            2.261113  2.297151  2.323986  2.327657   \n",
       "                      2.0            2.395566  2.488330  2.478477  2.430807   \n",
       "Middle_Age            1.0            2.249856  2.380051  2.360805  2.358913   \n",
       "                      2.0            2.343115  2.504021  2.458172  2.503650   \n",
       "Older                 1.0            2.195507  2.302769  2.283479  2.320102   \n",
       "                      2.0            2.308782  2.415584  2.469274  2.457483   \n",
       "Senior                1.0            2.191682  2.217125  2.264122  2.255917   \n",
       "                      2.0            2.225806  2.227723  2.376147  2.300000   \n",
       "\n",
       "Day_of_Week                                 5         6         7  \n",
       "Age_of_Driver_ordinal Sex_of_Driver                                \n",
       "Children              1.0            2.331903  2.257104  2.234474  \n",
       "                      2.0            2.431373  2.439560  2.331361  \n",
       "Young                 1.0            2.314305  2.318567  2.239587  \n",
       "                      2.0            2.509565  2.487509  2.411940  \n",
       "Middle_Age            1.0            2.372361  2.343103  2.311594  \n",
       "                      2.0            2.456494  2.456919  2.430631  \n",
       "Older                 1.0            2.282424  2.270377  2.268615  \n",
       "                      2.0            2.420622  2.423263  2.335541  \n",
       "Senior                1.0            2.297297  2.281501  2.258410  \n",
       "                      2.0            2.254237  2.287554  2.213270  "
      ]
     },
     "execution_count": 36,
     "metadata": {},
     "output_type": "execute_result"
    }
   ],
   "source": [
    "# konfigenčná tabuľka\n",
    "pd.pivot_table(test, index=[\"Age_of_Driver_ordinal\", \"Sex_of_Driver\"], columns=\"Day_of_Week\", values=\"Accident_Severity\", aggfunc=\"mean\")"
   ]
  },
  {
   "cell_type": "code",
   "execution_count": 37,
   "metadata": {},
   "outputs": [
    {
     "data": {
      "image/png": "[encoded data removed]",
      "text/plain": [
       "<Figure size 1153.05x360 with 3 Axes>"
      ]
     },
     "metadata": {
      "needs_background": "light"
     },
     "output_type": "display_data"
    }
   ],
   "source": [
    "# grafické zobrazenie \n",
    "\n",
    "g = sns.catplot(x=\"Age_of_Driver_ordinal\", y=\"Day_of_Week\", hue=\"Sex_of_Driver\", col=\"Accident_Severity\", data=test, kind=\"bar\")"
   ]
  },
  {
   "cell_type": "code",
   "execution_count": 38,
   "metadata": {},
   "outputs": [
    {
     "data": {
      "image/png": "[encoded data removed]",
      "text/plain": [
       "<Figure size 432x288 with 1 Axes>"
      ]
     },
     "metadata": {
      "needs_background": "light"
     },
     "output_type": "display_data"
    }
   ],
   "source": [
    "# grafické zobrazenie kontingenčnej tabuľky\n",
    "table = pd.pivot_table(test, index=[\"Age_of_Driver_ordinal\", \"Sex_of_Driver\"], columns=\"Day_of_Week\", values=\"Accident_Severity\", aggfunc=\"mean\", margins=True)\n",
    "g = sns.heatmap(table, annot=True, cbar=False, cmap=\"Set1\", )"
   ]
  },
  {
   "cell_type": "markdown",
   "metadata": {},
   "source": [
    "8. Vytvorte dátovú množinu, v ktorej nahradíte všetky nominálne atribúty za číselné alebo binárne. (3b)"
   ]
  },
  {
   "cell_type": "code",
   "execution_count": 39,
   "metadata": {},
   "outputs": [
    {
     "data": {
      "text/html": [
       "<div>\n",
       "<style scoped>\n",
       "    .dataframe tbody tr th:only-of-type {\n",
       "        vertical-align: middle;\n",
       "    }\n",
       "\n",
       "    .dataframe tbody tr th {\n",
       "        vertical-align: top;\n",
       "    }\n",
       "\n",
       "    .dataframe thead th {\n",
       "        text-align: right;\n",
       "    }\n",
       "</style>\n",
       "<table border=\"1\" class=\"dataframe\">\n",
       "  <thead>\n",
       "    <tr style=\"text-align: right;\">\n",
       "      <th></th>\n",
       "      <th>Day_of_Week</th>\n",
       "      <th>1st_Road_Class</th>\n",
       "      <th>Road_Type</th>\n",
       "      <th>Light_Conditions</th>\n",
       "      <th>Weather_Conditions</th>\n",
       "      <th>Road_Surface_Conditions</th>\n",
       "      <th>Urban_or_Rural_Area</th>\n",
       "      <th>Vehicle_Type</th>\n",
       "      <th>Sex_of_Driver</th>\n",
       "      <th>Age_of_Driver</th>\n",
       "      <th>Engine_Capacity_(CC)</th>\n",
       "      <th>Age_of_Vehicle</th>\n",
       "      <th>Accident_Severity</th>\n",
       "      <th>Age_of_Driver_ordinal</th>\n",
       "    </tr>\n",
       "  </thead>\n",
       "  <tbody>\n",
       "    <tr>\n",
       "      <td>0</td>\n",
       "      <td>2</td>\n",
       "      <td>4</td>\n",
       "      <td>6</td>\n",
       "      <td>1</td>\n",
       "      <td>8</td>\n",
       "      <td>1.0</td>\n",
       "      <td>1</td>\n",
       "      <td>9.0</td>\n",
       "      <td>1.0</td>\n",
       "      <td>36.0</td>\n",
       "      <td>1597.0</td>\n",
       "      <td>6.0</td>\n",
       "      <td>3</td>\n",
       "      <td>2</td>\n",
       "    </tr>\n",
       "    <tr>\n",
       "      <td>1</td>\n",
       "      <td>2</td>\n",
       "      <td>4</td>\n",
       "      <td>6</td>\n",
       "      <td>1</td>\n",
       "      <td>8</td>\n",
       "      <td>1.0</td>\n",
       "      <td>1</td>\n",
       "      <td>1.0</td>\n",
       "      <td>1.0</td>\n",
       "      <td>26.0</td>\n",
       "      <td>1597.0</td>\n",
       "      <td>6.0</td>\n",
       "      <td>3</td>\n",
       "      <td>1</td>\n",
       "    </tr>\n",
       "    <tr>\n",
       "      <td>2</td>\n",
       "      <td>5</td>\n",
       "      <td>1</td>\n",
       "      <td>3</td>\n",
       "      <td>1</td>\n",
       "      <td>1</td>\n",
       "      <td>2.0</td>\n",
       "      <td>2</td>\n",
       "      <td>9.0</td>\n",
       "      <td>2.0</td>\n",
       "      <td>72.0</td>\n",
       "      <td>998.0</td>\n",
       "      <td>5.0</td>\n",
       "      <td>3</td>\n",
       "      <td>4</td>\n",
       "    </tr>\n",
       "    <tr>\n",
       "      <td>3</td>\n",
       "      <td>5</td>\n",
       "      <td>1</td>\n",
       "      <td>3</td>\n",
       "      <td>1</td>\n",
       "      <td>1</td>\n",
       "      <td>2.0</td>\n",
       "      <td>2</td>\n",
       "      <td>9.0</td>\n",
       "      <td>2.0</td>\n",
       "      <td>44.0</td>\n",
       "      <td>1461.0</td>\n",
       "      <td>1.0</td>\n",
       "      <td>3</td>\n",
       "      <td>2</td>\n",
       "    </tr>\n",
       "    <tr>\n",
       "      <td>4</td>\n",
       "      <td>5</td>\n",
       "      <td>1</td>\n",
       "      <td>3</td>\n",
       "      <td>1</td>\n",
       "      <td>1</td>\n",
       "      <td>2.0</td>\n",
       "      <td>2</td>\n",
       "      <td>19.0</td>\n",
       "      <td>1.0</td>\n",
       "      <td>40.0</td>\n",
       "      <td>2461.0</td>\n",
       "      <td>1.0</td>\n",
       "      <td>3</td>\n",
       "      <td>2</td>\n",
       "    </tr>\n",
       "  </tbody>\n",
       "</table>\n",
       "</div>"
      ],
      "text/plain": [
       "   Day_of_Week  1st_Road_Class  Road_Type  Light_Conditions  \\\n",
       "0            2               4          6                 1   \n",
       "1            2               4          6                 1   \n",
       "2            5               1          3                 1   \n",
       "3            5               1          3                 1   \n",
       "4            5               1          3                 1   \n",
       "\n",
       "   Weather_Conditions  Road_Surface_Conditions  Urban_or_Rural_Area  \\\n",
       "0                   8                      1.0                    1   \n",
       "1                   8                      1.0                    1   \n",
       "2                   1                      2.0                    2   \n",
       "3                   1                      2.0                    2   \n",
       "4                   1                      2.0                    2   \n",
       "\n",
       "   Vehicle_Type  Sex_of_Driver  Age_of_Driver  Engine_Capacity_(CC)  \\\n",
       "0           9.0            1.0           36.0                1597.0   \n",
       "1           1.0            1.0           26.0                1597.0   \n",
       "2           9.0            2.0           72.0                 998.0   \n",
       "3           9.0            2.0           44.0                1461.0   \n",
       "4          19.0            1.0           40.0                2461.0   \n",
       "\n",
       "   Age_of_Vehicle  Accident_Severity Age_of_Driver_ordinal  \n",
       "0             6.0                  3                     2  \n",
       "1             6.0                  3                     1  \n",
       "2             5.0                  3                     4  \n",
       "3             1.0                  3                     2  \n",
       "4             1.0                  3                     2  "
      ]
     },
     "execution_count": 39,
     "metadata": {},
     "output_type": "execute_result"
    }
   ],
   "source": [
    "# transformácia atribútu Age_of_Driver_Ordinal\n",
    "\n",
    "test[\"Age_of_Driver_ordinal\"] = test[\"Age_of_Driver_ordinal\"].map({\"Children\": 0, \"Young\": 1, \"Middle_Age\": 2, \"Older\": 3, \"Senior\": 4}) \n",
    "test.head()"
   ]
  },
  {
   "cell_type": "code",
   "execution_count": 40,
   "metadata": {},
   "outputs": [
    {
     "name": "stdout",
     "output_type": "stream",
     "text": [
      "(75025, 14)\n"
     ]
    }
   ],
   "source": [
    "# skopírovanie testovacej množiny a kontrola počtu hodnôt\n",
    "Dataset = test\n",
    "print(Dataset.shape)"
   ]
  },
  {
   "cell_type": "code",
   "execution_count": 41,
   "metadata": {},
   "outputs": [
    {
     "name": "stdout",
     "output_type": "stream",
     "text": [
      "(75025, 13)\n"
     ]
    }
   ],
   "source": [
    "# odstranenie stlpca Age_of_Driver a kontrola počtu hodnôt\n",
    "Dataset.drop(columns=[\"Age_of_Driver\"], inplace=True)\n",
    "print(Dataset.shape)"
   ]
  },
  {
   "cell_type": "markdown",
   "metadata": {},
   "source": [
    "9. Rozdeľte dáta na trénovaciu a testovaciu množinu v pomere 70/30. Ako cieľový atribút použite atribút `Accident_Severity`. (2b)"
   ]
  },
  {
   "cell_type": "code",
   "execution_count": 42,
   "metadata": {},
   "outputs": [
    {
     "name": "stdout",
     "output_type": "stream",
     "text": [
      "Trenovacia mnozina:\n",
      "(52517, 12)\n",
      "(52517,)\n",
      "Testovacia mnozina:\n",
      "(22508, 12)\n",
      "(22508,)\n"
     ]
    }
   ],
   "source": [
    "# rozdelenie dát na trénovaciu a testovaciu množinu v pomere 70/30\n",
    "X_Dataset = Dataset.drop('Accident_Severity', axis=1)\n",
    "y_Dataset = Dataset['Accident_Severity']\n",
    "\n",
    "from sklearn.model_selection import train_test_split\n",
    "\n",
    "X_train, X_test, y_train, y_test = train_test_split(X_Dataset, y_Dataset, test_size=0.3, random_state=1) \n",
    "\n",
    "print(\"Trenovacia mnozina:\")\n",
    "print(X_train.shape)\n",
    "print(y_train.shape)\n",
    "print(\"Testovacia mnozina:\")\n",
    "print(X_test.shape)\n",
    "print(y_test.shape)"
   ]
  },
  {
   "cell_type": "markdown",
   "metadata": {},
   "source": [
    "10. Spočítajte pomocou funkcie `SelectKBest` a `mutual_score_info` významosti jednotlivých atribútov pre predikciu v trénovacej množine. Skúste získané informácie využiť pri predspracovaní dát pre niektoré z modelov. (3b)"
   ]
  },
  {
   "cell_type": "code",
   "execution_count": 43,
   "metadata": {},
   "outputs": [
    {
     "data": {
      "text/plain": [
       "SelectKBest(k='all',\n",
       "            score_func=<function mutual_info_classif at 0x00000249B9DC9678>)"
      ]
     },
     "execution_count": 43,
     "metadata": {},
     "output_type": "execute_result"
    }
   ],
   "source": [
    "from sklearn.feature_selection import SelectKBest, mutual_info_classif\n",
    "\n",
    "fs = SelectKBest(score_func=mutual_info_classif, k=\"all\")\n",
    "fs.fit(X_train, y_train)\n"
   ]
  },
  {
   "cell_type": "code",
   "execution_count": 44,
   "metadata": {},
   "outputs": [
    {
     "name": "stdout",
     "output_type": "stream",
     "text": [
      "Atribut 0: 0.003761\n",
      "Atribut 1: 0.006849\n",
      "Atribut 2: 0.008628\n",
      "Atribut 3: 0.016086\n",
      "Atribut 4: 0.003699\n",
      "Atribut 5: 0.004126\n",
      "Atribut 6: 0.016472\n",
      "Atribut 7: 0.021115\n",
      "Atribut 8: 0.003740\n",
      "Atribut 9: 0.012499\n",
      "Atribut 10: 0.002432\n",
      "Atribut 11: 0.002213\n"
     ]
    },
    {
     "data": {
      "image/png": "[encoded data removed]",
      "text/plain": [
       "<Figure size 432x288 with 1 Axes>"
      ]
     },
     "metadata": {
      "needs_background": "light"
     },
     "output_type": "display_data"
    }
   ],
   "source": [
    "for i in range(len(fs.scores_)):\n",
    "    print(\"Atribut %d: %f\" % (i, fs.scores_[i]))\n",
    "    \n",
    "    \n",
    "plt.bar([i for i in range(len(fs.scores_))], fs.scores_)\n",
    "plt.show()"
   ]
  },
  {
   "cell_type": "markdown",
   "metadata": {},
   "source": [
    "11. Natrénujte rôzne klasifikačné modely pre predikciu atribútu `Accident_Severity`. Natrénujte nasledovné modely s prednastavenými parametrami:\n",
    "* k-najbližších susedov\n",
    "* Rozhodovacie stromy\n",
    "* Random forests\n",
    "\n",
    "Jednotlivé modely otestujte pomocou 10-násobnej krížovej validácie pomocou metriky `accuracy`. \n",
    "\n",
    "Pozor - pre jednotlivé modely zvoľte vhodný spôsob predspracovania (možná modifikácia predspracovania v kroku 8). (6b) "
   ]
  },
  {
   "cell_type": "code",
   "execution_count": 45,
   "metadata": {},
   "outputs": [
    {
     "name": "stdout",
     "output_type": "stream",
     "text": [
      "Trenovacia mnozina:\n",
      "(52517, 12)\n",
      "(52517,)\n",
      "Testovacia mnozina:\n",
      "(22508, 12)\n",
      "(22508,)\n"
     ]
    }
   ],
   "source": [
    "# model k-najbližších susedov - rozdelenie dát na trénovaciu a testovaciu množinu v pomere 70/30\n",
    "\n",
    "Dataset1 = Dataset\n",
    "X_Dataset1 = Dataset1.drop('Accident_Severity', axis=1)\n",
    "y_Dataset1 = Dataset1['Accident_Severity']\n",
    "\n",
    "from sklearn.model_selection import train_test_split\n",
    "\n",
    "X_train, X_test, y_train, y_test = train_test_split(X_Dataset1, y_Dataset1, test_size=0.3, random_state=1) \n",
    "\n",
    "print(\"Trenovacia mnozina:\")\n",
    "print(X_train.shape)\n",
    "print(y_train.shape)\n",
    "print(\"Testovacia mnozina:\")\n",
    "print(X_test.shape)\n",
    "print(y_test.shape)"
   ]
  },
  {
   "cell_type": "code",
   "execution_count": 46,
   "metadata": {},
   "outputs": [
    {
     "name": "stdout",
     "output_type": "stream",
     "text": [
      "Presnosť (accuracy) modelu: 0.5382974942242759\n",
      "[[   2 1185  275]\n",
      " [  10 9105 2843]\n",
      " [   1 6078 3009]]\n"
     ]
    }
   ],
   "source": [
    "# model k-najbližších susedov - trénovanie\n",
    "from sklearn.neighbors import KNeighborsClassifier \n",
    "knn = KNeighborsClassifier(n_neighbors=29)       \n",
    "knn.fit(X_train, y_train) \n",
    "y_knn = knn.predict(X_test)\n",
    "\n",
    "from sklearn.metrics import accuracy_score, precision_score, recall_score \n",
    "print(f\"Presnosť (accuracy) modelu: {accuracy_score(y_test, y_knn)}\") \n",
    "# print(f\"Presnosť (precision) modelu: {precision_score(y_test, y_knn)}\") - nefunguje\n",
    "# print(f\"Návratnosť (recall) modelu: {recall_score(y_test, y_knn)}\") - nefunguje\n",
    "\n",
    "from sklearn.metrics import confusion_matrix \n",
    "cm = confusion_matrix(y_test, y_knn) \n",
    "print(cm)"
   ]
  },
  {
   "cell_type": "code",
   "execution_count": 47,
   "metadata": {},
   "outputs": [
    {
     "name": "stdout",
     "output_type": "stream",
     "text": [
      "Trenovacia mnozina:\n",
      "(52517, 12)\n",
      "(52517,)\n",
      "Testovacia mnozina:\n",
      "(22508, 12)\n",
      "(22508,)\n"
     ]
    }
   ],
   "source": [
    "# model Rozhodovacie stromy - rozdelenie dát na trénovaciu a testovaciu množinu v pomere 70/30\n",
    "Dataset2 = Dataset\n",
    "\n",
    "X_Dataset2 = Dataset2.drop(\"Accident_Severity\", axis=1)\n",
    "y_Dataset2 = Dataset2[\"Accident_Severity\"]\n",
    "\n",
    "from sklearn.model_selection import train_test_split\n",
    "\n",
    "X_train, X_test, y_train, y_test = train_test_split(X_Dataset2, y_Dataset2, test_size=0.3, random_state=1) \n",
    "\n",
    "print(\"Trenovacia mnozina:\")\n",
    "print(X_train.shape)\n",
    "print(y_train.shape)\n",
    "print(\"Testovacia mnozina:\")\n",
    "print(X_test.shape)\n",
    "print(y_test.shape)\n"
   ]
  },
  {
   "cell_type": "code",
   "execution_count": 48,
   "metadata": {},
   "outputs": [
    {
     "name": "stdout",
     "output_type": "stream",
     "text": [
      "Presnosť (accuracy) modelu: 0.5684645459392216\n",
      "[[   0 1288  174]\n",
      " [   0 8896 3062]\n",
      " [   0 5189 3899]]\n"
     ]
    }
   ],
   "source": [
    "# model Rozhodovacie stromy - trénovanie\n",
    "from sklearn.tree import DecisionTreeClassifier  \n",
    "from sklearn.metrics import confusion_matrix\n",
    "\n",
    "dt = DecisionTreeClassifier(max_depth=5)   \n",
    "dt.fit(X_train, y_train)\n",
    "y_dt = dt.predict(X_test) \n",
    "\n",
    "from sklearn.metrics import accuracy_score,precision_score, recall_score, confusion_matrix\n",
    "print(f\"Presnosť (accuracy) modelu: {accuracy_score(y_test, y_dt)}\") \n",
    "# print(f\"Presnosť (precision) modelu: {precision_score(y_test, y_dt)}\") - nefunguje\n",
    "# print(f\"Návratnosť (recall) modelu: {recall_score(y_test, y_dt)}\") - nefunguje\n",
    "\n",
    "cm = confusion_matrix(y_test, y_dt) \n",
    "print(cm)"
   ]
  },
  {
   "cell_type": "code",
   "execution_count": 49,
   "metadata": {},
   "outputs": [
    {
     "name": "stdout",
     "output_type": "stream",
     "text": [
      "Trenovacia mnozina:\n",
      "(52517, 12)\n",
      "(52517,)\n",
      "Testovacia mnozina:\n",
      "(22508, 12)\n",
      "(22508,)\n"
     ]
    }
   ],
   "source": [
    "# model Random forests - rozdelenie dát na trénovaciu a testovaciu množinu v pomere 70/30\n",
    "Dataset3 = Dataset\n",
    "\n",
    "X_Dataset3 = Dataset3.drop(\"Accident_Severity\", axis=1)\n",
    "y_Dataset3 = Dataset3[\"Accident_Severity\"]\n",
    "\n",
    "from sklearn.model_selection import train_test_split\n",
    "\n",
    "X_train, X_test, y_train, y_test = train_test_split(X_Dataset3, y_Dataset3, test_size=0.3, random_state=1) \n",
    "\n",
    "print(\"Trenovacia mnozina:\")\n",
    "print(X_train.shape)\n",
    "print(y_train.shape)\n",
    "print(\"Testovacia mnozina:\")\n",
    "print(X_test.shape)\n",
    "print(y_test.shape)\n"
   ]
  },
  {
   "cell_type": "code",
   "execution_count": 50,
   "metadata": {},
   "outputs": [
    {
     "name": "stdout",
     "output_type": "stream",
     "text": [
      "Presnosť (accuracy) modelu: 0.5338546294650791\n",
      "[[    0  1459     3]\n",
      " [    0 11901    57]\n",
      " [    0  8973   115]]\n"
     ]
    }
   ],
   "source": [
    "# model Random forests - trénovanie\n",
    "\n",
    "from sklearn.ensemble import RandomForestClassifier \n",
    "from sklearn.metrics import accuracy_score, precision_score, recall_score, confusion_matrix \n",
    "\n",
    "rf = RandomForestClassifier(n_estimators=500, max_depth=2) \n",
    "rf.fit(X_train, y_train) \n",
    "y_rf = rf.predict(X_test) \n",
    "\n",
    "print(f\"Presnosť (accuracy) modelu: {accuracy_score(y_test, y_rf)}\") \n",
    "# print(f\"Presnosť (precision) modelu: {precision_score(y_test, y_rf)}\") - nefunguje\n",
    "# print(f\"Návratnosť (recall) modelu: {recall_score(y_test, y_rf)}\") - nefunguje\n",
    "\n",
    "cm = confusion_matrix(y_test, y_rf) \n",
    "print(cm)"
   ]
  },
  {
   "cell_type": "markdown",
   "metadata": {},
   "source": [
    "12. Porovnajte natrénované modely aj pomocou ROC krivky testovacej množine. Identifikujte model, ktorý dáva najlepšie výsledky s prednastavenými parametrami. \n",
    "V tomto kroku sa posnažte vyladiť model nájdením najvhodnejších parametrov pomocou `GridSearchCV`. Nájdite a vypíšte najlepšiu kombináciu parametrov. (4b)"
   ]
  },
  {
   "cell_type": "code",
   "execution_count": 51,
   "metadata": {},
   "outputs": [
    {
     "data": {
      "image/png": "[encoded data removed]",
      "text/plain": [
       "<Figure size 432x288 with 1 Axes>"
      ]
     },
     "metadata": {
      "needs_background": "light"
     },
     "output_type": "display_data"
    }
   ],
   "source": [
    "# ROC krivka\n",
    "\n",
    "y_knn = knn.predict(X_test)\n",
    "y_dt = dt.predict(X_test)\n",
    "y_rf = rf.predict(X_test)\n",
    "\n",
    "from sklearn.metrics import roc_curve,auc \n",
    "\n",
    "fpr_knn, tpr_knn, thresholds_knn = roc_curve(y_test, y_knn, pos_label=1) \n",
    "fpr_dt, tpr_dt, thresholds_dt = roc_curve(y_test, y_dt, pos_label=1) \n",
    "fpr_rf, tpr_rf, thresholds_rf = roc_curve(y_test, y_rf, pos_label=1)\n",
    "\n",
    "roc_auc_knn = auc(fpr_knn, tpr_knn) \n",
    "roc_auc_dt = auc(fpr_dt, tpr_dt)\n",
    "roc_auc_rf = auc(fpr_rf, tpr_rf)\n",
    "\n",
    "plt.title(\"ROC krivka (knn, dt a rf)\")\n",
    "\n",
    "plt.plot(fpr_knn, tpr_knn, color=\"blue\", label = \"ROC krivka modelu knn (AUC = %0.2f)\" % roc_auc_knn)\n",
    "plt.plot(fpr_dt, tpr_dt, color=\"green\", label = \"ROC krivka modelu dt (AUC = %0.2f)\" % roc_auc_dt) \n",
    "plt.plot(fpr_rf, tpr_rf, color=\"yellow\", label = \"ROC krivka modelu rf (AUC = %0.2f)\" % roc_auc_rf)\n",
    "\n",
    "plt.legend(loc = \"upper left\")\n",
    "plt.plot([0, 1], [0, 1],linestyle=\"--\", color=\"red\")\n",
    "plt.xlim([0, 1]) \n",
    "plt.ylim([0, 1]) \n",
    "plt.ylabel(\"True Positive Rate\") \n",
    "plt.xlabel(\"False Positive Rate\")\n",
    "plt.show()\n"
   ]
  },
  {
   "cell_type": "markdown",
   "metadata": {},
   "source": [
    "Podľa ROC krivky dáva najlepšie výsledky model Random forests"
   ]
  },
  {
   "cell_type": "code",
   "execution_count": 52,
   "metadata": {},
   "outputs": [
    {
     "name": "stdout",
     "output_type": "stream",
     "text": [
      "Najlepsie parametre:\n",
      "{'n_neighbors': 36}\n",
      "Hodnota presnosti modelu (accuracy) pre tieto parametre:\n",
      "0.5389302511567683\n"
     ]
    }
   ],
   "source": [
    "# GridSearchCV - model k-najbližších susedov - trénovanie\n",
    "Dataset12 = Dataset\n",
    "X_Dataset12 = Dataset12.drop('Accident_Severity', axis=1)\n",
    "y_Dataset12 = Dataset12['Accident_Severity']\n",
    "\n",
    "from sklearn.model_selection import train_test_split\n",
    "\n",
    "X_train, X_test, y_train, y_test = train_test_split(X_Dataset12, y_Dataset12, test_size=0.3, random_state=1) \n",
    "\n",
    "from sklearn.neighbors import KNeighborsClassifier \n",
    "knn = KNeighborsClassifier()\n",
    "\n",
    "from sklearn.model_selection import GridSearchCV\n",
    "k_range = list(range(1, 50))\n",
    "param_grid_knn = dict(n_neighbors=k_range)\n",
    "\n",
    "grid_knn = GridSearchCV(estimator=knn, param_grid=param_grid_knn, cv=5, scoring=\"accuracy\") \n",
    "grid_knn.fit(X_train, y_train) \n",
    "\n",
    "\n",
    "print(\"Najlepsie parametre:\")\n",
    "print(grid_knn.best_params_)\n",
    "print(\"Hodnota presnosti modelu (accuracy) pre tieto parametre:\")\n",
    "print(grid_knn.best_score_)"
   ]
  },
  {
   "cell_type": "code",
   "execution_count": 53,
   "metadata": {},
   "outputs": [
    {
     "name": "stdout",
     "output_type": "stream",
     "text": [
      "Najlepšia kombinácia parametrov modelu \"decision_tree\" je:\n",
      "{'criterion': 'entropy', 'max_depth': 5, 'min_samples_leaf': 1, 'min_samples_split': 2, 'presort': True}\n",
      "\n",
      "Hodnota presnosti modelu \"decision_tree\" pri tejto kombinácii je:\n",
      "0.5623512386465335\n"
     ]
    }
   ],
   "source": [
    "# GridSearchCV - model Rozhodovacie stromy - trénovanie\n",
    "\n",
    "Dataset22 = Dataset\n",
    "\n",
    "X_Dataset22 = Dataset22.drop(\"Accident_Severity\", axis=1)\n",
    "y_Dataset22 = Dataset22[\"Accident_Severity\"]\n",
    "\n",
    "from sklearn.model_selection import train_test_split\n",
    "\n",
    "X_train, X_test, y_train, y_test = train_test_split(X_Dataset22, y_Dataset22, test_size=0.3, random_state=1) \n",
    "\n",
    "from sklearn.metrics import accuracy_score, precision_score, recall_score\n",
    "from sklearn.tree import DecisionTreeClassifier\n",
    "from sklearn.metrics import confusion_matrix\n",
    "from sklearn.model_selection import GridSearchCV \n",
    "\n",
    "dt = DecisionTreeClassifier()\n",
    "\n",
    "criterion_range = ['gini', 'entropy']\n",
    "max_depth_range = [1, 2, 3, 4, 5, 6] \n",
    "min_samples_split_range = [2, 4, 6, 8, 10, 12]\n",
    "min_samples_leaf_range = [1, 5, 10]\n",
    "presort_range = [True, False]\n",
    "\n",
    "param_grid_dt = dict(criterion=criterion_range, max_depth=max_depth_range, min_samples_split = min_samples_split_range, min_samples_leaf = min_samples_leaf_range, presort = presort_range )\n",
    "\n",
    "grid_dt = GridSearchCV(estimator=dt, param_grid=param_grid_dt, cv=5, scoring='accuracy')\n",
    "grid_dt.fit(X_train, y_train)\n",
    "\n",
    "print('Najlepšia kombinácia parametrov modelu \"decision_tree\" je:')\n",
    "print(grid_dt.best_params_)\n",
    "print()\n",
    "print('Hodnota presnosti modelu \"decision_tree\" pri tejto kombinácii je:')\n",
    "print(grid_dt.best_score_)"
   ]
  },
  {
   "cell_type": "code",
   "execution_count": null,
   "metadata": {},
   "outputs": [],
   "source": [
    "# GridSearchCV - model Random forests - trénovanie\n",
    "Dataset32 = Dataset\n",
    "\n",
    "X_Dataset32 = Dataset32.drop(\"Accident_Severity\", axis=1)\n",
    "y_Dataset32 = Dataset32[\"Accident_Severity\"]\n",
    "\n",
    "from sklearn.model_selection import train_test_split\n",
    "\n",
    "X_train, X_test, y_train, y_test = train_test_split(X_Dataset32, y_Dataset32, test_size=0.3, random_state=1) \n",
    "\n",
    "from sklearn.metrics import accuracy_score, precision_score, recall_score, confusion_matrix\n",
    "from sklearn.ensemble import RandomForestClassifier\n",
    "from sklearn.model_selection import GridSearchCV \n",
    "\n",
    "rf = RandomForestClassifier()\n",
    "\n",
    "n_estimators_range = [100, 300, 500, 700, 900]\n",
    "oob_score_range = [True, False]\n",
    "criterion_range = ['gini', 'entropy']\n",
    "max_depth_range = [1, 2, 3, 4, 5, 6]\n",
    "min_samples_split_range = [2, 4, 6]\n",
    "min_samples_leaf_range = [1, 5, 10]\n",
    "\n",
    "param_grid_rf = dict(n_estimators=n_estimators_range, oob_score=oob_score_range, criterion=criterion_range, max_depth=max_depth_range, min_samples_split = min_samples_split_range, min_samples_leaf = min_samples_leaf_range)\n",
    "\n",
    "grid_rf = GridSearchCV(estimator=rf, param_grid=param_grid_rf, cv=5, scoring='accuracy')\n",
    "grid_rf.fit(X_train, y_train)\n",
    "\n",
    "print('Najlepšia kombinácia parametrov modelu \"random_forests\" je:')\n",
    "print(grid_rf.best_params_)\n",
    "print()\n",
    "print('Hodnota presnosti modelu \"random_forests\" pri tejto kombinácii je:')\n",
    "print(grid_rf.best_score_)"
   ]
  },
  {
   "cell_type": "code",
   "execution_count": null,
   "metadata": {},
   "outputs": [],
   "source": [
    "# robí to neskutočne dlho..."
   ]
  },
  {
   "cell_type": "markdown",
   "metadata": {},
   "source": [
    "13. Natrénujte na celej trénovacej množine model s najlepšími parametrami. Model otestujte na testovacej množine. Vyhodnoťte model pomocou metrík `accuracy`, `precision` a `recall`. Vypíšte preň `confusion matrix`. (3b)"
   ]
  },
  {
   "cell_type": "code",
   "execution_count": 60,
   "metadata": {},
   "outputs": [
    {
     "name": "stdout",
     "output_type": "stream",
     "text": [
      "Presnosť (accuracy) modelu: 0.5411853563177537\n",
      "[[   3 1201  258]\n",
      " [  10 9259 2689]\n",
      " [   3 6166 2919]]\n"
     ]
    }
   ],
   "source": [
    "#  model k-najbližších susedov\n",
    "\n",
    "from sklearn.neighbors import KNeighborsClassifier \n",
    "knn = KNeighborsClassifier(n_neighbors=36)       \n",
    "knn.fit(X_train, y_train) \n",
    "y_knn = knn.predict(X_test)\n",
    "\n",
    "from sklearn.metrics import confusion_matrix\n",
    "from sklearn.metrics import accuracy_score,precision_score, recall_score\n",
    "\n",
    "print(f\"Presnosť (accuracy) modelu: {accuracy_score(y_test, y_knn)}\") \n",
    "# print(f\"Presnosť (precision) modelu: {precision_score(y_test, y_knn}\") - nefunguje\n",
    "# print(f\"Návratnosť (recall) modelu: {recall_score(y_test, y_knn)}\") - nefunguje\n",
    "\n",
    "cm_ = confusion_matrix(y_test, y_knn) \n",
    "print(cm)\n"
   ]
  },
  {
   "cell_type": "code",
   "execution_count": 61,
   "metadata": {},
   "outputs": [
    {
     "name": "stdout",
     "output_type": "stream",
     "text": [
      "Presnosť (accuracy) modelu: 0.5681535454060779\n",
      "[[   0 1316  146]\n",
      " [   0 9069 2889]\n",
      " [   0 5369 3719]]\n"
     ]
    }
   ],
   "source": [
    "# model Rozhodovacie stromy\n",
    "\n",
    "dt = DecisionTreeClassifier(max_depth=5,criterion= 'entropy',min_samples_leaf= 1, min_samples_split= 2, presort= True)   \n",
    "dt.fit(X_train, y_train)       \n",
    "y_dt = dt.predict(X_test)\n",
    "\n",
    "from sklearn.metrics import confusion_matrix\n",
    "from sklearn.metrics import accuracy_score,precision_score, recall_score\n",
    "\n",
    "print(f\"Presnosť (accuracy) modelu: {accuracy_score(y_test, y_dt)}\") \n",
    "# print(f\"Presnosť (precision) modelu: {precision_score(y_test, y_dt)}\") - nefunguje\n",
    "# print(f\"Návratnosť (recall) modelu: {recall_score(y_test, y_dt)}\") - nefunguje\n",
    "\n",
    "cm = confusion_matrix(y_test, y_dt) \n",
    "print(cm)\n"
   ]
  },
  {
   "cell_type": "code",
   "execution_count": 63,
   "metadata": {},
   "outputs": [
    {
     "name": "stdout",
     "output_type": "stream",
     "text": [
      "Presnosť (accuracy) modelu: 0.5338546294650791\n",
      "[[    0  1459     3]\n",
      " [    0 11901    57]\n",
      " [    0  8973   115]]\n"
     ]
    }
   ],
   "source": [
    "# model Random forest\n",
    "\n",
    "y_rf = rf.predict(X_test)\n",
    "\n",
    "print(f\"Presnosť (accuracy) modelu: {accuracy_score(y_test, y_rf)}\") \n",
    "# print(f\"Presnosť (precision) modelu: {precision_score(y_test, y_rf)}\") - nefunguje\n",
    "# print(f\"Návratnosť (recall) modelu: {recall_score(y_test, y_rf)}\") - nefunguje\n",
    "\n",
    "cm = confusion_matrix(y_test, y_rf) \n",
    "print(cm)\n"
   ]
  }
 ],
 "metadata": {
  "kernelspec": {
   "display_name": "Python 3",
   "language": "python",
   "name": "python3"
  },
  "language_info": {
   "codemirror_mode": {
    "name": "ipython",
    "version": 3
   },
   "file_extension": ".py",
   "mimetype": "text/x-python",
   "name": "python",
   "nbconvert_exporter": "python",
   "pygments_lexer": "ipython3",
   "version": "3.7.4"
  }
 },
 "nbformat": 4,
 "nbformat_minor": 4
}
